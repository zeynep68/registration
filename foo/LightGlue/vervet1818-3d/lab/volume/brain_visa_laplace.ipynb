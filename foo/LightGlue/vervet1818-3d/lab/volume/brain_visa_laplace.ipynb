{
 "cells": [
  {
   "cell_type": "code",
   "execution_count": 1,
   "metadata": {
    "collapsed": false,
    "pycharm": {
     "name": "#%%\n"
    }
   },
   "outputs": [
    {
     "name": "stdout",
     "output_type": "stream",
     "text": [
      "/mnt/localdata/datasets/vervet1818-3d\n",
      "medpc177\r\n"
     ]
    }
   ],
   "source": [
    "%load_ext autoreload\n",
    "%autoreload 2\n",
    "\n",
    "%cd ../..\n",
    "!hostname"
   ]
  },
  {
   "cell_type": "code",
   "execution_count": 4,
   "metadata": {
    "collapsed": false,
    "pycharm": {
     "name": "#%%\n"
    }
   },
   "outputs": [],
   "source": [
    "pyramid = 6\n",
    "\n",
    "lp_path = f\"data/aa/volume/brain_visa/heat_{pyramid}.nii.gz\"\n",
    "lp_out = f\"data/aa/volume/brain_visa/heat_{pyramid}_fixed.nii\"\n",
    "gzip = True\n",
    "\n",
    "###\n",
    "\n",
    "import pli\n",
    "import numpy as np\n",
    "\n",
    "from pli.data.functions import write_nifti\n",
    "\n",
    "lp_section = pli.data.Section(lp_path)\n",
    "\n",
    "spacing = tuple(s / 1_000 for s in lp_section.spacing)\n",
    "origin = (0., 0., 0.)\n",
    "volume = lp_section.image.transpose(2, 1, 0)[::-1, :, :]\n",
    "\n",
    "lp_section.close_file_handle()\n",
    "\n",
    "affine = np.diag((*spacing, 1))\n",
    "affine[:3, 3] = origin\n",
    "\n",
    "write_nifti(lp_out, volume, affine, gzip=gzip)"
   ]
  },
  {
   "cell_type": "code",
   "execution_count": null,
   "metadata": {
    "collapsed": false,
    "pycharm": {
     "name": "#%%\n"
    }
   },
   "outputs": [],
   "source": []
  }
 ],
 "metadata": {
  "kernelspec": {
   "display_name": "Python (pli)",
   "language": "python",
   "name": "pli"
  },
  "language_info": {
   "codemirror_mode": {
    "name": "ipython",
    "version": 2
   },
   "file_extension": ".py",
   "mimetype": "text/x-python",
   "name": "python",
   "nbconvert_exporter": "python",
   "pygments_lexer": "ipython2",
   "version": "2.7.6"
  }
 },
 "nbformat": 4,
 "nbformat_minor": 0
}
