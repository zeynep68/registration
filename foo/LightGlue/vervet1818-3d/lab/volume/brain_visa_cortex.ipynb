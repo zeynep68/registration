{
 "cells": [
  {
   "cell_type": "code",
   "execution_count": 1,
   "metadata": {
    "collapsed": false,
    "pycharm": {
     "name": "#%%\n"
    }
   },
   "outputs": [
    {
     "name": "stdout",
     "output_type": "stream",
     "text": [
      "/p/fastdata/pli/Private/oberstrass1/datasets/vervet1818-3d\n",
      "jrlogin09.jureca\r\n"
     ]
    }
   ],
   "source": [
    "%load_ext autoreload\n",
    "%autoreload 2\n",
    "\n",
    "%cd ../..\n",
    "!hostname"
   ]
  },
  {
   "cell_type": "code",
   "execution_count": 16,
   "metadata": {
    "collapsed": false,
    "pycharm": {
     "name": "#%%\n"
    }
   },
   "outputs": [
    {
     "name": "stdout",
     "output_type": "stream",
     "text": [
      "(448, 243, 485)\n",
      "Affine\n",
      " [[0.0843776 0.        0.        0.       ]\n",
      " [0.        0.06      0.        0.       ]\n",
      " [0.        0.        0.0843776 0.       ]\n",
      " [0.        0.        0.        1.       ]]\n"
     ]
    }
   ],
   "source": [
    "pyramid = 6\n",
    "\n",
    "wm_path = f\"data/aa/volume/wm/wm_{pyramid}_smooth.h5\"\n",
    "pial_path = f\"data/aa/volume/pial/pial_{pyramid}.h5\"\n",
    "volume_group = \"volume\"\n",
    "affine_name = 'affine'\n",
    "\n",
    "###\n",
    "\n",
    "import h5py as h5\n",
    "import numpy as np\n",
    "\n",
    "with h5.File(wm_path, 'r') as f:\n",
    "    wm_volume = f[volume_group][:]\n",
    "    wm_affine = f[affine_name][:]\n",
    "\n",
    "with h5.File(pial_path, 'r') as f:\n",
    "    pial_volume = f[volume_group][:]\n",
    "    pial_affine = f[affine_name][:]\n",
    "\n",
    "assert np.all(wm_affine == pial_affine)\n",
    "affine = np.vstack([pial_affine, np.array([[0, 0, 0, 1]])])\n",
    "\n",
    "print(pial_volume.shape)\n",
    "print(\"Affine\\n\", affine)"
   ]
  },
  {
   "cell_type": "code",
   "execution_count": 17,
   "metadata": {
    "collapsed": false,
    "pycharm": {
     "name": "#%%\n"
    }
   },
   "outputs": [],
   "source": [
    "out_file = f\"data/aa/volume/brain_visa/cortex_{pyramid}.nii\"\n",
    "\n",
    "BG = 0\n",
    "GM = 100\n",
    "WM = 200\n",
    "\n",
    "###\n",
    "\n",
    "from pli.data.functions import write_nifti\n",
    "\n",
    "out_volume = np.full_like(pial_volume, BG, dtype=np.int16)\n",
    "out_volume[pial_volume] = GM\n",
    "out_volume[wm_volume] = WM\n",
    "\n",
    "write_nifti(out_file, out_volume, affine)"
   ]
  },
  {
   "cell_type": "code",
   "execution_count": null,
   "metadata": {
    "collapsed": false,
    "pycharm": {
     "name": "#%%\n"
    }
   },
   "outputs": [],
   "source": []
  }
 ],
 "metadata": {
  "kernelspec": {
   "display_name": "Venv (pli-env)",
   "language": "python",
   "name": "pli-env"
  },
  "language_info": {
   "codemirror_mode": {
    "name": "ipython",
    "version": 2
   },
   "file_extension": ".py",
   "mimetype": "text/x-python",
   "name": "python",
   "nbconvert_exporter": "python",
   "pygments_lexer": "ipython2",
   "version": "2.7.6"
  }
 },
 "nbformat": 4,
 "nbformat_minor": 0
}
