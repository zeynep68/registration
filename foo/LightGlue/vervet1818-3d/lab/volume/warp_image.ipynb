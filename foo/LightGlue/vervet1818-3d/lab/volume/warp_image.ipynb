{
 "cells": [
  {
   "cell_type": "code",
   "execution_count": 1,
   "metadata": {
    "collapsed": false,
    "pycharm": {
     "name": "#%%\n"
    }
   },
   "outputs": [
    {
     "name": "stdout",
     "output_type": "stream",
     "text": [
      "/p/fastdata/pli/Private/oberstrass1/datasets/vervet1818-3d\n",
      "jrlogin04.jureca\r\n"
     ]
    }
   ],
   "source": [
    "%load_ext autoreload\n",
    "%autoreload 2\n",
    "\n",
    "%cd ../../\n",
    "!hostname"
   ]
  },
  {
   "cell_type": "code",
   "execution_count": 50,
   "metadata": {
    "collapsed": false,
    "pycharm": {
     "name": "#%%\n"
    }
   },
   "outputs": [],
   "source": [
    "import os\n",
    "import re\n",
    "\n",
    "import numpy as np\n",
    "import pandas as pd\n",
    "import SimpleITK as sitk\n",
    "\n",
    "import pli\n",
    "\n",
    "from vervet1818_3d.utils.transforms import load_disp_field"
   ]
  },
  {
   "cell_type": "code",
   "execution_count": 39,
   "metadata": {
    "collapsed": false,
    "pycharm": {
     "name": "#%%\n"
    }
   },
   "outputs": [
    {
     "name": "stdout",
     "output_type": "stream",
     "text": [
      "Found 234 pairs\n"
     ]
    },
    {
     "data": {
      "text/html": [
       "<div>\n",
       "<style scoped>\n",
       "    .dataframe tbody tr th:only-of-type {\n",
       "        vertical-align: middle;\n",
       "    }\n",
       "\n",
       "    .dataframe tbody tr th {\n",
       "        vertical-align: top;\n",
       "    }\n",
       "\n",
       "    .dataframe thead th {\n",
       "        text-align: right;\n",
       "    }\n",
       "</style>\n",
       "<table border=\"1\" class=\"dataframe\">\n",
       "  <thead>\n",
       "    <tr style=\"text-align: right;\">\n",
       "      <th></th>\n",
       "      <th>id</th>\n",
       "      <th>roi</th>\n",
       "      <th>file_trans</th>\n",
       "      <th>file_image</th>\n",
       "    </tr>\n",
       "  </thead>\n",
       "  <tbody>\n",
       "    <tr>\n",
       "      <th>0</th>\n",
       "      <td>841</td>\n",
       "      <td>aa</td>\n",
       "      <td>data/aa/transformation/Vervet1818aa_60mu_70ms_...</td>\n",
       "      <td>datasets/vervet1818-stitched/data/aa/ntransmit...</td>\n",
       "    </tr>\n",
       "    <tr>\n",
       "      <th>1</th>\n",
       "      <td>842</td>\n",
       "      <td>aa</td>\n",
       "      <td>data/aa/transformation/Vervet1818aa_60mu_70ms_...</td>\n",
       "      <td>datasets/vervet1818-stitched/data/aa/ntransmit...</td>\n",
       "    </tr>\n",
       "    <tr>\n",
       "      <th>2</th>\n",
       "      <td>843</td>\n",
       "      <td>aa</td>\n",
       "      <td>data/aa/transformation/Vervet1818aa_60mu_70ms_...</td>\n",
       "      <td>datasets/vervet1818-stitched/data/aa/ntransmit...</td>\n",
       "    </tr>\n",
       "    <tr>\n",
       "      <th>3</th>\n",
       "      <td>844</td>\n",
       "      <td>aa</td>\n",
       "      <td>data/aa/transformation/Vervet1818aa_60mu_70ms_...</td>\n",
       "      <td>datasets/vervet1818-stitched/data/aa/ntransmit...</td>\n",
       "    </tr>\n",
       "    <tr>\n",
       "      <th>4</th>\n",
       "      <td>845</td>\n",
       "      <td>aa</td>\n",
       "      <td>data/aa/transformation/Vervet1818aa_60mu_70ms_...</td>\n",
       "      <td>datasets/vervet1818-stitched/data/aa/ntransmit...</td>\n",
       "    </tr>\n",
       "  </tbody>\n",
       "</table>\n",
       "</div>"
      ],
      "text/plain": [
       "    id roi                                         file_trans  \\\n",
       "0  841  aa  data/aa/transformation/Vervet1818aa_60mu_70ms_...   \n",
       "1  842  aa  data/aa/transformation/Vervet1818aa_60mu_70ms_...   \n",
       "2  843  aa  data/aa/transformation/Vervet1818aa_60mu_70ms_...   \n",
       "3  844  aa  data/aa/transformation/Vervet1818aa_60mu_70ms_...   \n",
       "4  845  aa  data/aa/transformation/Vervet1818aa_60mu_70ms_...   \n",
       "\n",
       "                                          file_image  \n",
       "0  datasets/vervet1818-stitched/data/aa/ntransmit...  \n",
       "1  datasets/vervet1818-stitched/data/aa/ntransmit...  \n",
       "2  datasets/vervet1818-stitched/data/aa/ntransmit...  \n",
       "3  datasets/vervet1818-stitched/data/aa/ntransmit...  \n",
       "4  datasets/vervet1818-stitched/data/aa/ntransmit...  "
      ]
     },
     "execution_count": 39,
     "metadata": {},
     "output_type": "execute_result"
    }
   ],
   "source": [
    "image_path = \"datasets/vervet1818-stitched/data/aa/ntransmittance/\"\n",
    "trans_path = \"data/aa/transformation/\"\n",
    "\n",
    "###\n",
    "\n",
    "feature_path = \"data/aa/features/resnet50_planes8_overlap/\"\n",
    "mask_path = \"data/aa/masks/cortex/\"\n",
    "\n",
    "###\n",
    "\n",
    "\n",
    "\n",
    "p = re.compile('Vervet1818([a-z]*)\\_.*s([0-9]{4})\\_.*')\n",
    "\n",
    "image_list = []\n",
    "for f in sorted(os.listdir(image_path)):\n",
    "    id = int(p.match(f)[2])\n",
    "    roi = p.match(f)[1]\n",
    "    image_list.append({'id': id, 'roi': roi, 'file': os.path.join(image_path, f)})\n",
    "image_df = pd.DataFrame(image_list).sort_values('id').reset_index(drop=True)\n",
    "\n",
    "trans_list = []\n",
    "for f in sorted(os.listdir(trans_path)):\n",
    "    id = int(p.match(f)[2])\n",
    "    roi = p.match(f)[1]\n",
    "    trans_list.append({'id': id, 'roi': roi, 'file': os.path.join(trans_path, f)})\n",
    "trans_df = pd.DataFrame(trans_list).sort_values('id').reset_index(drop=True)\n",
    "\n",
    "files_df = trans_df.merge(image_df, on=['id', 'roi'], how='inner', suffixes=('_trans', '_image'))\n",
    "\n",
    "print(f\"Found {len(files_df)} pairs\")\n",
    "files_df.head()"
   ]
  },
  {
   "cell_type": "code",
   "execution_count": 77,
   "metadata": {
    "collapsed": false,
    "pycharm": {
     "name": "#%%\n"
    }
   },
   "outputs": [
    {
     "name": "stdout",
     "output_type": "stream",
     "text": [
      "Load image with size (20079, 28852) and spacing (1.3184, 1.3184)\n",
      "Load transformation with spacing (42.18880087137222, 42.18880087137222)\n"
     ]
    }
   ],
   "source": [
    "ix = 0\n",
    "\n",
    "###\n",
    "\n",
    "test_row = files_df.loc[ix]\n",
    "\n",
    "# Load image\n",
    "test_section = pli.data.Section(test_row.file_image)\n",
    "test_image = sitk.GetImageFromArray(test_section.image[:])\n",
    "test_image.SetSpacing(tuple(s / 1000 for s in test_section.spacing[::-1]))\n",
    "print(\"Load image with size\", test_image.GetSize(), \"and spacing\", test_section.spacing)\n",
    "\n",
    "# Load transformation\n",
    "test_trans, test_spacing = load_disp_field(test_row.file_trans)\n",
    "test_spacing = tuple(t * 1000 for t in test_spacing)\n",
    "print(\"Load transformation with spacing\", test_spacing)"
   ]
  },
  {
   "cell_type": "code",
   "execution_count": 78,
   "metadata": {
    "collapsed": false,
    "pycharm": {
     "name": "#%%\n"
    }
   },
   "outputs": [],
   "source": [
    "# Warp image\n",
    "\n",
    "out_size = (31076, 28721)  # width, height\n",
    "out_spacing = tuple(s / 1000 for s in test_section.spacing[::-1])\n",
    "out_origin = (0, 0)\n",
    "\n",
    "###\n",
    "\n",
    "# Resample image\n",
    "resampler = sitk.ResampleImageFilter()\n",
    "resampler.SetSize(out_size)\n",
    "resampler.SetOutputSpacing(out_spacing)\n",
    "resampler.SetTransform(test_trans)\n",
    "\n",
    "out_image = resampler.Execute(test_image)"
   ]
  },
  {
   "cell_type": "code",
   "execution_count": 79,
   "metadata": {
    "collapsed": false,
    "pycharm": {
     "name": "#%%\n"
    }
   },
   "outputs": [
    {
     "name": "stderr",
     "output_type": "stream",
     "text": [
      "/p/project/cjinm11/Private/oberstrass1/git/envs/pli-env/venv/lib/python3.9/site-packages/atlaslib/image.py:497: UserWarning: level 0 is already located in pyramid path. Not linking again.\n",
      "  warnings.warn(\"level 0 is already located in pyramid path. Not linking again.\")\n"
     ]
    }
   ],
   "source": [
    "# Save image\n",
    "\n",
    "out_file = \"data/test.h5\"\n",
    "chunk_size = 256\n",
    "num_levels = 11\n",
    "\n",
    "\n",
    "###\n",
    "\n",
    "test_section.image = sitk.GetArrayFromImage(out_image)\n",
    "test_section.to_hdf5(\n",
    "    out_file,\n",
    "    chunk_size=chunk_size,\n",
    "    num_levels=num_levels\n",
    ")"
   ]
  }
 ],
 "metadata": {
  "kernelspec": {
   "display_name": "Venv (pli-env)",
   "language": "python",
   "name": "pli-env"
  },
  "language_info": {
   "codemirror_mode": {
    "name": "ipython",
    "version": 2
   },
   "file_extension": ".py",
   "mimetype": "text/x-python",
   "name": "python",
   "nbconvert_exporter": "python",
   "pygments_lexer": "ipython2",
   "version": "2.7.6"
  }
 },
 "nbformat": 4,
 "nbformat_minor": 0
}
