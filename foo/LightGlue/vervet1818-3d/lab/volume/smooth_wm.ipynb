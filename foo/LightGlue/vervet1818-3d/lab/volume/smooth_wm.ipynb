{
 "cells": [
  {
   "cell_type": "code",
   "execution_count": 1,
   "metadata": {
    "collapsed": false,
    "pycharm": {
     "name": "#%%\n"
    }
   },
   "outputs": [
    {
     "name": "stdout",
     "output_type": "stream",
     "text": [
      "/p/fastdata/pli/Private/oberstrass1/datasets/vervet1818-3d\n",
      "jrlogin07.jureca\r\n"
     ]
    }
   ],
   "source": [
    "%load_ext autoreload\n",
    "%autoreload 2\n",
    "\n",
    "%cd ../..\n",
    "!hostname"
   ]
  },
  {
   "cell_type": "code",
   "execution_count": 2,
   "metadata": {
    "collapsed": false,
    "pycharm": {
     "name": "#%%\n"
    }
   },
   "outputs": [],
   "source": [
    "import sys, os\n",
    "import re\n",
    "\n",
    "import h5py as h5\n",
    "import numpy as np\n",
    "import pandas as pd\n",
    "\n",
    "import imageio\n",
    "from tqdm import tqdm\n",
    "\n",
    "import pli\n",
    "import pli.image as im"
   ]
  },
  {
   "cell_type": "code",
   "execution_count": 67,
   "metadata": {
    "collapsed": false,
    "pycharm": {
     "name": "#%%\n"
    }
   },
   "outputs": [
    {
     "name": "stdout",
     "output_type": "stream",
     "text": [
      "(1795, 243, 1942)\n",
      "Affine\n",
      " [[0.0210944 0.        0.        0.       ]\n",
      " [0.        0.06      0.        0.       ]\n",
      " [0.        0.        0.0210944 0.       ]]\n"
     ]
    }
   ],
   "source": [
    "wm_path = \"data/aa/volume/wm/wm_4.h5\"\n",
    "volume_group = \"volume\"\n",
    "affine_name = 'affine'\n",
    "\n",
    "###\n",
    "\n",
    "with h5.File(wm_path, 'r') as f:\n",
    "    volume = f[volume_group][:]\n",
    "    affine = f[affine_name][:]\n",
    "    chunks = f[volume_group].chunks\n",
    "\n",
    "print(volume.shape)\n",
    "print(\"Affine\\n\", affine)"
   ]
  },
  {
   "cell_type": "code",
   "execution_count": 68,
   "metadata": {
    "collapsed": false,
    "pycharm": {
     "name": "#%%\n"
    }
   },
   "outputs": [
    {
     "name": "stdout",
     "output_type": "stream",
     "text": [
      "Largest tissue component: 67724819\n",
      "Tissue components: 1\n"
     ]
    }
   ],
   "source": [
    "# Smooth in stack axis and remove small tissue components\n",
    "\n",
    "median_kernel = (1, 5, 1)\n",
    "tissue_cc_thresh = 0.001\n",
    "\n",
    "###\n",
    "\n",
    "from scipy import ndimage as ndi\n",
    "\n",
    "# Smooth volume in z direction\n",
    "median_volume = ndi.median_filter(volume, size=median_kernel)\n",
    "\n",
    "tissue_labeled, _ = ndi.label(median_volume)\n",
    "tissue_cc_counts = np.bincount(tissue_labeled.ravel())\n",
    "\n",
    "tissue_cc_counts[0] = 0  # Background\n",
    "largest_tissue_cc = np.max(tissue_cc_counts)\n",
    "print(f\"Largest tissue component: {largest_tissue_cc}\")\n",
    "\n",
    "large_cc_mask = (tissue_cc_counts >= largest_tissue_cc * tissue_cc_thresh)\n",
    "print(f\"Tissue components: {large_cc_mask.sum()}\")\n",
    "tissue_mask = large_cc_mask[tissue_labeled]\n",
    "\n",
    "result_volume = tissue_mask > 0"
   ]
  },
  {
   "cell_type": "code",
   "execution_count": 69,
   "metadata": {
    "collapsed": false,
    "pycharm": {
     "name": "#%%\n"
    }
   },
   "outputs": [
    {
     "name": "stdout",
     "output_type": "stream",
     "text": [
      "Save volume with chunk size (64, 64, 64) and affine matrix\n",
      "[[0.0210944 0.        0.        0.       ]\n",
      " [0.        0.06      0.        0.       ]\n",
      " [0.        0.        0.0210944 0.       ]]...\n",
      "Volume saved at data/aa/volume/wm/wm_4_smooth.h5\n"
     ]
    }
   ],
   "source": [
    "# Save volume\n",
    "\n",
    "out_file = \"data/aa/volume/wm/wm_4_smooth.h5\"\n",
    "compression = 'gzip'\n",
    "\n",
    "###\n",
    "\n",
    "spacing = np.diag(affine)\n",
    "\n",
    "with h5.File(out_file, 'w') as f:\n",
    "\n",
    "    f[affine_name] = affine\n",
    "\n",
    "    print(f\"Save volume with chunk size {chunks} and affine matrix\\n{affine}...\")\n",
    "    # Create empty dataset\n",
    "    v_ds = f.create_dataset(\n",
    "        name=volume_group,\n",
    "        data=result_volume,\n",
    "        chunks=chunks,\n",
    "        compression=compression,\n",
    "    )\n",
    "    v_ds.attrs['spacing'] = spacing\n",
    "\n",
    "print(f\"Volume saved at {out_file}\")"
   ]
  },
  {
   "cell_type": "code",
   "execution_count": null,
   "metadata": {
    "collapsed": false,
    "pycharm": {
     "name": "#%%\n"
    }
   },
   "outputs": [],
   "source": []
  }
 ],
 "metadata": {
  "kernelspec": {
   "display_name": "Venv (pli-env)",
   "language": "python",
   "name": "pli-env"
  },
  "language_info": {
   "codemirror_mode": {
    "name": "ipython",
    "version": 2
   },
   "file_extension": ".py",
   "mimetype": "text/x-python",
   "name": "python",
   "nbconvert_exporter": "python",
   "pygments_lexer": "ipython2",
   "version": "2.7.6"
  }
 },
 "nbformat": 4,
 "nbformat_minor": 0
}
