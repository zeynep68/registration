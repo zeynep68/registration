{
 "cells": [
  {
   "cell_type": "code",
   "execution_count": 1,
   "metadata": {
    "collapsed": false,
    "pycharm": {
     "name": "#%%\n"
    }
   },
   "outputs": [
    {
     "name": "stdout",
     "output_type": "stream",
     "text": [
      "/p/fastdata/pli/Private/oberstrass1/datasets/vervet1818-3d\n",
      "jrlogin06.jureca\r\n"
     ]
    }
   ],
   "source": [
    "%load_ext autoreload\n",
    "%autoreload 2\n",
    "\n",
    "%cd ../../\n",
    "!hostname"
   ]
  },
  {
   "cell_type": "code",
   "execution_count": 2,
   "metadata": {
    "collapsed": false,
    "pycharm": {
     "name": "#%%\n"
    }
   },
   "outputs": [],
   "source": [
    "import numpy as np\n",
    "import SimpleITK as sitk\n",
    "\n",
    "from vervet1818_3d.utils.transforms import downscale_image, index2coord, warp_coord, coord2ix"
   ]
  },
  {
   "cell_type": "code",
   "execution_count": 3,
   "metadata": {
    "collapsed": false,
    "pycharm": {
     "name": "#%%\n"
    }
   },
   "outputs": [],
   "source": [
    "field_path = \"in/volume-reconstruction/SpatialTransformation/Vervet1818aa_60mu_70ms_s1083_x00-14_y00-11_SpatialTransformation.nii\"\n",
    "\n",
    "###\n",
    "\n",
    "field_image = sitk.ReadImage(field_path)"
   ]
  },
  {
   "cell_type": "code",
   "execution_count": 4,
   "metadata": {
    "collapsed": false,
    "pycharm": {
     "name": "#%%\n"
    }
   },
   "outputs": [],
   "source": [
    "downscale = 32\n",
    "interpolator = sitk.sitkLinear\n",
    "\n",
    "##\n",
    "\n",
    "small_image = downscale_image(field_image, downscale, interpolator)"
   ]
  },
  {
   "cell_type": "code",
   "execution_count": 5,
   "metadata": {
    "collapsed": false,
    "pycharm": {
     "name": "#%%\n"
    }
   },
   "outputs": [],
   "source": [
    "small_transform = sitk.DisplacementFieldTransform(small_image)\n",
    "field_transform = sitk.DisplacementFieldTransform(field_image)"
   ]
  },
  {
   "cell_type": "code",
   "execution_count": 6,
   "metadata": {
    "collapsed": false,
    "pycharm": {
     "name": "#%%\n"
    }
   },
   "outputs": [],
   "source": [
    "n_samples = 10000\n",
    "np.random.seed(299792458)\n",
    "\n",
    "###\n",
    "\n",
    "size = field_transform.GetDisplacementField().GetSize()\n",
    "\n",
    "import numpy as np\n",
    "\n",
    "indices = np.vstack((np.random.randint(0, size[1], n_samples), np.random.randint(0, size[0], n_samples))).T"
   ]
  },
  {
   "cell_type": "code",
   "execution_count": 7,
   "metadata": {
    "collapsed": false,
    "pycharm": {
     "name": "#%%\n"
    }
   },
   "outputs": [],
   "source": [
    "\n",
    "diffs = []\n",
    "\n",
    "for ix in indices:\n",
    "    coord = index2coord(ix, (0.0013, 0.0013))\n",
    "\n",
    "    coord1 = np.array(warp_coord(coord, small_transform))\n",
    "    coord2 = np.array(warp_coord(coord, field_transform))\n",
    "\n",
    "    d = np.linalg.norm(coord1 - coord2) / 0.0013\n",
    "\n",
    "    if d > 1.0:\n",
    "        print(ix)\n",
    "\n",
    "    diffs.append(d)"
   ]
  },
  {
   "cell_type": "code",
   "execution_count": 8,
   "metadata": {
    "collapsed": false,
    "pycharm": {
     "name": "#%%\n"
    }
   },
   "outputs": [
    {
     "data": {
      "text/plain": [
       "0.026123053686007206"
      ]
     },
     "execution_count": 8,
     "metadata": {},
     "output_type": "execute_result"
    }
   ],
   "source": [
    "np.mean(diffs)"
   ]
  },
  {
   "cell_type": "code",
   "execution_count": 9,
   "metadata": {
    "collapsed": false,
    "pycharm": {
     "name": "#%%\n"
    }
   },
   "outputs": [
    {
     "data": {
      "text/plain": [
       "[0.6965871425135431,\n",
       " 0.6868458393909448,\n",
       " 0.683593034368585,\n",
       " 0.6579068439576261,\n",
       " 0.6354960384089935,\n",
       " 0.60044984981419,\n",
       " 0.5969424180505178,\n",
       " 0.5744582696596556,\n",
       " 0.5661701573409578,\n",
       " 0.5475352253647283]"
      ]
     },
     "execution_count": 9,
     "metadata": {},
     "output_type": "execute_result"
    }
   ],
   "source": [
    "sorted(diffs)[::-1][:10]"
   ]
  },
  {
   "cell_type": "code",
   "execution_count": 9,
   "metadata": {
    "collapsed": false,
    "pycharm": {
     "name": "#%%\n"
    }
   },
   "outputs": [],
   "source": []
  }
 ],
 "metadata": {
  "kernelspec": {
   "display_name": "Venv (pli-env)",
   "language": "python",
   "name": "pli-env"
  },
  "language_info": {
   "codemirror_mode": {
    "name": "ipython",
    "version": 2
   },
   "file_extension": ".py",
   "mimetype": "text/x-python",
   "name": "python",
   "nbconvert_exporter": "python",
   "pygments_lexer": "ipython2",
   "version": "2.7.6"
  }
 },
 "nbformat": 4,
 "nbformat_minor": 0
}
