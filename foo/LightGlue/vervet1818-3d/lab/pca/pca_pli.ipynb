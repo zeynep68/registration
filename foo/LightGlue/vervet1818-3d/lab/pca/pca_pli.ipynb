{
 "cells": [
  {
   "cell_type": "code",
   "execution_count": 2,
   "metadata": {
    "collapsed": false,
    "pycharm": {
     "name": "#%%\n"
    }
   },
   "outputs": [
    {
     "name": "stdout",
     "output_type": "stream",
     "text": [
      "/p/fastdata/pli/Private/oberstrass1/datasets/vervet1818-3d\n",
      "jrlogin03.jureca\r\n"
     ]
    }
   ],
   "source": [
    "%load_ext autoreload\n",
    "%autoreload 2\n",
    "\n",
    "%matplotlib inline\n",
    "\n",
    "%cd ../..\n",
    "\n",
    "!hostname"
   ]
  },
  {
   "cell_type": "code",
   "execution_count": 3,
   "metadata": {
    "collapsed": false,
    "pycharm": {
     "name": "#%%\n"
    }
   },
   "outputs": [],
   "source": [
    "import os\n",
    "\n",
    "import re\n",
    "import pandas as pd\n",
    "import numpy as np\n",
    "\n",
    "import pli\n",
    "import pli.image as im\n",
    "\n",
    "from tqdm import tqdm"
   ]
  },
  {
   "cell_type": "code",
   "execution_count": 4,
   "metadata": {
    "collapsed": false,
    "pycharm": {
     "name": "#%%\n"
    }
   },
   "outputs": [
    {
     "data": {
      "text/html": [
       "<div>\n",
       "<style scoped>\n",
       "    .dataframe tbody tr th:only-of-type {\n",
       "        vertical-align: middle;\n",
       "    }\n",
       "\n",
       "    .dataframe tbody tr th {\n",
       "        vertical-align: top;\n",
       "    }\n",
       "\n",
       "    .dataframe thead th {\n",
       "        text-align: right;\n",
       "    }\n",
       "</style>\n",
       "<table border=\"1\" class=\"dataframe\">\n",
       "  <thead>\n",
       "    <tr style=\"text-align: right;\">\n",
       "      <th></th>\n",
       "      <th>id</th>\n",
       "      <th>spacing</th>\n",
       "      <th>origin</th>\n",
       "      <th>file_mask</th>\n",
       "      <th>file_trans</th>\n",
       "      <th>file_dir</th>\n",
       "      <th>file_ret</th>\n",
       "    </tr>\n",
       "  </thead>\n",
       "  <tbody>\n",
       "    <tr>\n",
       "      <th>0</th>\n",
       "      <td>841</td>\n",
       "      <td>(84.37760192, 84.37760192)</td>\n",
       "      <td>[0.0, 0.0]</td>\n",
       "      <td>data/aa/masks/cortex/Vervet1818aa_60mu_70ms_s0...</td>\n",
       "      <td>data/aa/ntransmittance/Vervet1818aa_60mu_70ms_...</td>\n",
       "      <td>data/aa/direction/Vervet1818aa_60mu_70ms_s0841...</td>\n",
       "      <td>data/aa/retardation/Vervet1818aa_60mu_70ms_s08...</td>\n",
       "    </tr>\n",
       "    <tr>\n",
       "      <th>1</th>\n",
       "      <td>842</td>\n",
       "      <td>(84.37760192, 84.37760192)</td>\n",
       "      <td>[0.0, 0.0]</td>\n",
       "      <td>data/aa/masks/cortex/Vervet1818aa_60mu_70ms_s0...</td>\n",
       "      <td>data/aa/ntransmittance/Vervet1818aa_60mu_70ms_...</td>\n",
       "      <td>data/aa/direction/Vervet1818aa_60mu_70ms_s0842...</td>\n",
       "      <td>data/aa/retardation/Vervet1818aa_60mu_70ms_s08...</td>\n",
       "    </tr>\n",
       "    <tr>\n",
       "      <th>2</th>\n",
       "      <td>843</td>\n",
       "      <td>(84.37760192, 84.37760192)</td>\n",
       "      <td>[0.0, 0.0]</td>\n",
       "      <td>data/aa/masks/cortex/Vervet1818aa_60mu_70ms_s0...</td>\n",
       "      <td>data/aa/ntransmittance/Vervet1818aa_60mu_70ms_...</td>\n",
       "      <td>data/aa/direction/Vervet1818aa_60mu_70ms_s0843...</td>\n",
       "      <td>data/aa/retardation/Vervet1818aa_60mu_70ms_s08...</td>\n",
       "    </tr>\n",
       "    <tr>\n",
       "      <th>3</th>\n",
       "      <td>844</td>\n",
       "      <td>(84.37760192, 84.37760192)</td>\n",
       "      <td>[0.0, 0.0]</td>\n",
       "      <td>data/aa/masks/cortex/Vervet1818aa_60mu_70ms_s0...</td>\n",
       "      <td>data/aa/ntransmittance/Vervet1818aa_60mu_70ms_...</td>\n",
       "      <td>data/aa/direction/Vervet1818aa_60mu_70ms_s0844...</td>\n",
       "      <td>data/aa/retardation/Vervet1818aa_60mu_70ms_s08...</td>\n",
       "    </tr>\n",
       "    <tr>\n",
       "      <th>4</th>\n",
       "      <td>845</td>\n",
       "      <td>(84.37760192, 84.37760192)</td>\n",
       "      <td>[0.0, 0.0]</td>\n",
       "      <td>data/aa/masks/cortex/Vervet1818aa_60mu_70ms_s0...</td>\n",
       "      <td>data/aa/ntransmittance/Vervet1818aa_60mu_70ms_...</td>\n",
       "      <td>data/aa/direction/Vervet1818aa_60mu_70ms_s0845...</td>\n",
       "      <td>data/aa/retardation/Vervet1818aa_60mu_70ms_s08...</td>\n",
       "    </tr>\n",
       "  </tbody>\n",
       "</table>\n",
       "</div>"
      ],
      "text/plain": [
       "    id                     spacing      origin  \\\n",
       "0  841  (84.37760192, 84.37760192)  [0.0, 0.0]   \n",
       "1  842  (84.37760192, 84.37760192)  [0.0, 0.0]   \n",
       "2  843  (84.37760192, 84.37760192)  [0.0, 0.0]   \n",
       "3  844  (84.37760192, 84.37760192)  [0.0, 0.0]   \n",
       "4  845  (84.37760192, 84.37760192)  [0.0, 0.0]   \n",
       "\n",
       "                                           file_mask  \\\n",
       "0  data/aa/masks/cortex/Vervet1818aa_60mu_70ms_s0...   \n",
       "1  data/aa/masks/cortex/Vervet1818aa_60mu_70ms_s0...   \n",
       "2  data/aa/masks/cortex/Vervet1818aa_60mu_70ms_s0...   \n",
       "3  data/aa/masks/cortex/Vervet1818aa_60mu_70ms_s0...   \n",
       "4  data/aa/masks/cortex/Vervet1818aa_60mu_70ms_s0...   \n",
       "\n",
       "                                          file_trans  \\\n",
       "0  data/aa/ntransmittance/Vervet1818aa_60mu_70ms_...   \n",
       "1  data/aa/ntransmittance/Vervet1818aa_60mu_70ms_...   \n",
       "2  data/aa/ntransmittance/Vervet1818aa_60mu_70ms_...   \n",
       "3  data/aa/ntransmittance/Vervet1818aa_60mu_70ms_...   \n",
       "4  data/aa/ntransmittance/Vervet1818aa_60mu_70ms_...   \n",
       "\n",
       "                                            file_dir  \\\n",
       "0  data/aa/direction/Vervet1818aa_60mu_70ms_s0841...   \n",
       "1  data/aa/direction/Vervet1818aa_60mu_70ms_s0842...   \n",
       "2  data/aa/direction/Vervet1818aa_60mu_70ms_s0843...   \n",
       "3  data/aa/direction/Vervet1818aa_60mu_70ms_s0844...   \n",
       "4  data/aa/direction/Vervet1818aa_60mu_70ms_s0845...   \n",
       "\n",
       "                                            file_ret  \n",
       "0  data/aa/retardation/Vervet1818aa_60mu_70ms_s08...  \n",
       "1  data/aa/retardation/Vervet1818aa_60mu_70ms_s08...  \n",
       "2  data/aa/retardation/Vervet1818aa_60mu_70ms_s08...  \n",
       "3  data/aa/retardation/Vervet1818aa_60mu_70ms_s08...  \n",
       "4  data/aa/retardation/Vervet1818aa_60mu_70ms_s08...  "
      ]
     },
     "execution_count": 4,
     "metadata": {},
     "output_type": "execute_result"
    }
   ],
   "source": [
    "# Load section infos\n",
    "\n",
    "trans_path = \"data/aa/ntransmittance/\"\n",
    "dir_path = \"data/aa/direction/\"\n",
    "ret_path = \"data/aa/retardation/\"\n",
    "mask_path = \"data/aa/masks/cortex/\"\n",
    "\n",
    "# Group of the mask in the H5 files\n",
    "mask_group = 'Image'\n",
    "\n",
    "# Coressponding pyramid\n",
    "mask_pyramid = 6\n",
    "pli_pyramid = 2\n",
    "\n",
    "###\n",
    "\n",
    "import h5py as h5\n",
    "\n",
    "p = re.compile('.*s([0-9]{4})_.*')\n",
    "\n",
    "feature_list = []\n",
    "for tf, df, rf in zip(sorted(os.listdir(trans_path)), sorted(os.listdir(dir_path)), sorted(os.listdir(ret_path))):\n",
    "    id = int(p.match(tf)[1])\n",
    "    id_2 = int(p.match(rf)[1])\n",
    "    assert id == id_2\n",
    "    feature_list.append({'id': id, 'file_trans': os.path.join(trans_path, tf),\n",
    "                         'file_dir': os.path.join(dir_path, df),\n",
    "                         'file_ret': os.path.join(ret_path, rf)})\n",
    "feature_df = pd.DataFrame(feature_list).sort_values('id').reset_index(drop=True)\n",
    "\n",
    "mask_list = []\n",
    "for f in sorted(os.listdir(mask_path)):\n",
    "    id = int(p.match(f)[1])\n",
    "    mask_section = pli.data.Section(os.path.join(mask_path, f))\n",
    "    spacing = tuple((2 ** mask_pyramid) * s for s in mask_section.spacing)\n",
    "    origin = mask_section.origin\n",
    "    mask_section.close_file_handle()\n",
    "    mask_list.append({'id': id, 'spacing': spacing, 'origin': origin, 'file_mask': os.path.join(mask_path, f)})\n",
    "mask_df = pd.DataFrame(mask_list).sort_values('id').reset_index(drop=True)\n",
    "\n",
    "files_df = mask_df.merge(feature_df, on='id', how='left')\n",
    "\n",
    "files_df.head()"
   ]
  },
  {
   "cell_type": "code",
   "execution_count": null,
   "metadata": {
    "collapsed": false,
    "pycharm": {
     "is_executing": true,
     "name": "#%%\n"
    }
   },
   "outputs": [
    {
     "name": "stderr",
     "output_type": "stream",
     "text": [
      "  0%|                                                                                                                 | 0/1 [00:00<?, ?it/s]"
     ]
    },
    {
     "name": "stdout",
     "output_type": "stream",
     "text": [
      "starting 8 processes to create features\n"
     ]
    }
   ],
   "source": [
    "# Fit PCA by subsample of the data\n",
    "\n",
    "# Number of randomly selected sections\n",
    "n_subsamples = 1 # 32  # len(files_df)\n",
    "\n",
    "# Number of bins for pli features\n",
    "n_bins = 16\n",
    "\n",
    "seed = 299792458\n",
    "\n",
    "# Masking of features to include foreground only\n",
    "mask_features = True\n",
    "background_class = 3\n",
    "\n",
    "###\n",
    "\n",
    "from vervet1818_3d.utils.io import pli2feat\n",
    "\n",
    "np.random.seed(seed)\n",
    "\n",
    "selected_features = []\n",
    "selected_masks = []\n",
    "\n",
    "section_ids = []\n",
    "\n",
    "for k, r in tqdm(files_df.sample(n_subsamples).sort_values('id').iterrows(), total=n_subsamples):\n",
    "    trans_section = pli.data.Section(r.file_trans)\n",
    "    dir_section = pli.data.Section(r.file_dir)\n",
    "    ret_section = pli.data.Section(r.file_ret)\n",
    "\n",
    "    features = pli2feat(\n",
    "        trans_section.pyramid[pli_pyramid][:],\n",
    "        np.deg2rad(dir_section.pyramid[pli_pyramid]),\n",
    "        ret_section.pyramid[pli_pyramid][:],\n",
    "        mask_pyramid - pli_pyramid,\n",
    "        n_bins\n",
    "    )\n",
    "\n",
    "    mask_section = pli.data.Section(r.file_mask, data_group=mask_group)\n",
    "    mask = mask_section.pyramid[mask_pyramid][:]\n",
    "\n",
    "    selected_features.append(features)\n",
    "    selected_masks.append(mask)\n",
    "    section_ids.append(r.id)\n",
    "\n",
    "print(f\"Use sections {section_ids}\")\n",
    "\n",
    "if mask_features:\n",
    "    valid_features = [f[m != background_class] for f, m in zip(selected_features, selected_masks)]\n",
    "else:\n",
    "    valid_features = [sf.reshape(-1, sf.shape[-1]) for sf in selected_features]\n",
    "\n",
    "valid_lengths = [len(vf) for vf in valid_features]\n",
    "valid_features = np.vstack(valid_features)\n",
    "del selected_features\n",
    "\n",
    "print(f\"Valid features have shape {valid_features.shape}\")"
   ]
  },
  {
   "cell_type": "code",
   "execution_count": null,
   "metadata": {
    "collapsed": false,
    "pycharm": {
     "name": "#%%\n"
    }
   },
   "outputs": [],
   "source": [
    "# Perform PCA\n",
    "\n",
    "n_samples = 1_000_000\n",
    "\n",
    "seed = 299792458\n",
    "\n",
    "###\n",
    "\n",
    "from sklearn.decomposition import PCA\n",
    "from sklearn.preprocessing import StandardScaler\n",
    "\n",
    "np.random.seed(seed)\n",
    "\n",
    "ix = np.random.choice(np.arange(len(valid_features)), n_samples)\n",
    "pca_components = len(valid_features[0])\n",
    "\n",
    "feature_selection = valid_features[ix].astype(np.float64)\n",
    "\n",
    "scaler = StandardScaler()\n",
    "std_features = scaler.fit_transform(feature_selection)\n",
    "\n",
    "pca = PCA(n_components=pca_components, whiten=False)\n",
    "pca.fit(std_features)"
   ]
  },
  {
   "cell_type": "code",
   "execution_count": null,
   "metadata": {
    "collapsed": false,
    "pycharm": {
     "name": "#%%\n"
    }
   },
   "outputs": [],
   "source": [
    "# Get optimal number of components\n",
    "\n",
    "import matplotlib.pyplot as plt\n",
    "\n",
    "from vervet1818_3d.utils.stats import profile_likelihood\n",
    "\n",
    "pl = np.array([profile_likelihood(l, pca) for l in range(pca.n_components)])\n",
    "\n",
    "pl_components = np.argmax(pl)\n",
    "print(f\"Optimum found at {pl_components} components\")\n",
    "\n",
    "plt.vlines(np.argmax(pl), pl.max(), pl.min(), colors='black', linestyles='--')\n",
    "plt.plot(pl[:100]);"
   ]
  },
  {
   "cell_type": "code",
   "execution_count": null,
   "metadata": {
    "collapsed": false,
    "pycharm": {
     "name": "#%%\n"
    }
   },
   "outputs": [],
   "source": [
    "# Function of variance explained\n",
    "\n",
    "min_variance_explained = 0.7\n",
    "\n",
    "###\n",
    "\n",
    "import matplotlib.pyplot as plt\n",
    "\n",
    "scree = np.cumsum(pca.explained_variance_)\n",
    "scree /= scree[-1]\n",
    "\n",
    "variance_components = np.argwhere(scree > min_variance_explained)[0, 0] + 1\n",
    "\n",
    "n_components = max(pl_components, variance_components)\n",
    "\n",
    "variance_explained = scree[n_components -1] / scree[-1]\n",
    "\n",
    "print(f\"Explained variance: {100 * variance_explained:.2f}% with {n_components} components\")\n",
    "plt.plot(scree[:100])\n",
    "plt.vlines(n_components, scree.max(), 0, colors='black', linestyles='--')\n",
    "plt.title(\"Proportion of variance explained\")\n",
    "plt.xlabel(\"#Components\")\n",
    "plt.grid()\n",
    "plt.show()"
   ]
  },
  {
   "cell_type": "code",
   "execution_count": 20,
   "metadata": {
    "collapsed": false,
    "pycharm": {
     "name": "#%%\n"
    }
   },
   "outputs": [
    {
     "name": "stderr",
     "output_type": "stream",
     "text": [
      " 31%|███████████████████████████████▏                                                                      | 71/232 [07:57<18:02,  6.72s/it]\n"
     ]
    },
    {
     "ename": "KeyboardInterrupt",
     "evalue": "",
     "output_type": "error",
     "traceback": [
      "\u001b[0;31m---------------------------------------------------------------------------\u001b[0m",
      "\u001b[0;31mKeyboardInterrupt\u001b[0m                         Traceback (most recent call last)",
      "\u001b[0;32m/tmp/ipykernel_24140/1153222298.py\u001b[0m in \u001b[0;36m<cell line: 16>\u001b[0;34m()\u001b[0m\n\u001b[1;32m     19\u001b[0m     \u001b[0mret_section\u001b[0m \u001b[0;34m=\u001b[0m \u001b[0mpli\u001b[0m\u001b[0;34m.\u001b[0m\u001b[0mdata\u001b[0m\u001b[0;34m.\u001b[0m\u001b[0mSection\u001b[0m\u001b[0;34m(\u001b[0m\u001b[0mr\u001b[0m\u001b[0;34m.\u001b[0m\u001b[0mfile_ret\u001b[0m\u001b[0;34m)\u001b[0m\u001b[0;34m\u001b[0m\u001b[0;34m\u001b[0m\u001b[0m\n\u001b[1;32m     20\u001b[0m \u001b[0;34m\u001b[0m\u001b[0m\n\u001b[0;32m---> 21\u001b[0;31m     \u001b[0mtest_features\u001b[0m \u001b[0;34m=\u001b[0m \u001b[0mpli2feat\u001b[0m\u001b[0;34m(\u001b[0m\u001b[0mtrans_section\u001b[0m\u001b[0;34m.\u001b[0m\u001b[0mpyramid\u001b[0m\u001b[0;34m[\u001b[0m\u001b[0mpli_pyramid\u001b[0m\u001b[0;34m]\u001b[0m\u001b[0;34m[\u001b[0m\u001b[0;34m:\u001b[0m\u001b[0;34m]\u001b[0m\u001b[0;34m,\u001b[0m \u001b[0mret_section\u001b[0m\u001b[0;34m.\u001b[0m\u001b[0mpyramid\u001b[0m\u001b[0;34m[\u001b[0m\u001b[0mpli_pyramid\u001b[0m\u001b[0;34m]\u001b[0m\u001b[0;34m[\u001b[0m\u001b[0;34m:\u001b[0m\u001b[0;34m]\u001b[0m\u001b[0;34m,\u001b[0m \u001b[0mmask_pyramid\u001b[0m \u001b[0;34m-\u001b[0m \u001b[0mpli_pyramid\u001b[0m\u001b[0;34m)\u001b[0m\u001b[0;34m\u001b[0m\u001b[0;34m\u001b[0m\u001b[0m\n\u001b[0m\u001b[1;32m     22\u001b[0m \u001b[0;34m\u001b[0m\u001b[0m\n\u001b[1;32m     23\u001b[0m     \u001b[0mmask_section\u001b[0m \u001b[0;34m=\u001b[0m \u001b[0mpli\u001b[0m\u001b[0;34m.\u001b[0m\u001b[0mdata\u001b[0m\u001b[0;34m.\u001b[0m\u001b[0mSection\u001b[0m\u001b[0;34m(\u001b[0m\u001b[0mr\u001b[0m\u001b[0;34m.\u001b[0m\u001b[0mfile_mask\u001b[0m\u001b[0;34m,\u001b[0m \u001b[0mdata_group\u001b[0m\u001b[0;34m=\u001b[0m\u001b[0mmask_group\u001b[0m\u001b[0;34m)\u001b[0m\u001b[0;34m\u001b[0m\u001b[0;34m\u001b[0m\u001b[0m\n",
      "\u001b[0;32mh5py/_objects.pyx\u001b[0m in \u001b[0;36mh5py._objects.with_phil.wrapper\u001b[0;34m()\u001b[0m\n",
      "\u001b[0;32mh5py/_objects.pyx\u001b[0m in \u001b[0;36mh5py._objects.with_phil.wrapper\u001b[0;34m()\u001b[0m\n",
      "\u001b[0;32m/p/software/jurecadc/stages/2022/software/h5py/3.5.0-GCCcore-11.2.0-serial/lib/python3.9/site-packages/h5py/_hl/dataset.py\u001b[0m in \u001b[0;36m__getitem__\u001b[0;34m(self, args, new_dtype)\u001b[0m\n\u001b[1;32m    701\u001b[0m         \u001b[0;32mif\u001b[0m \u001b[0mself\u001b[0m\u001b[0;34m.\u001b[0m\u001b[0m_fast_read_ok\u001b[0m \u001b[0;32mand\u001b[0m \u001b[0;34m(\u001b[0m\u001b[0mnew_dtype\u001b[0m \u001b[0;32mis\u001b[0m \u001b[0;32mNone\u001b[0m\u001b[0;34m)\u001b[0m\u001b[0;34m:\u001b[0m\u001b[0;34m\u001b[0m\u001b[0;34m\u001b[0m\u001b[0m\n\u001b[1;32m    702\u001b[0m             \u001b[0;32mtry\u001b[0m\u001b[0;34m:\u001b[0m\u001b[0;34m\u001b[0m\u001b[0;34m\u001b[0m\u001b[0m\n\u001b[0;32m--> 703\u001b[0;31m                 \u001b[0;32mreturn\u001b[0m \u001b[0mself\u001b[0m\u001b[0;34m.\u001b[0m\u001b[0m_fast_reader\u001b[0m\u001b[0;34m.\u001b[0m\u001b[0mread\u001b[0m\u001b[0;34m(\u001b[0m\u001b[0margs\u001b[0m\u001b[0;34m)\u001b[0m\u001b[0;34m\u001b[0m\u001b[0;34m\u001b[0m\u001b[0m\n\u001b[0m\u001b[1;32m    704\u001b[0m             \u001b[0;32mexcept\u001b[0m \u001b[0mTypeError\u001b[0m\u001b[0;34m:\u001b[0m\u001b[0;34m\u001b[0m\u001b[0;34m\u001b[0m\u001b[0m\n\u001b[1;32m    705\u001b[0m                 \u001b[0;32mpass\u001b[0m  \u001b[0;31m# Fall back to Python read pathway below\u001b[0m\u001b[0;34m\u001b[0m\u001b[0;34m\u001b[0m\u001b[0m\n",
      "\u001b[0;31mKeyboardInterrupt\u001b[0m: "
     ]
    }
   ],
   "source": [
    "out_folder = \"data/aa/pca/\"\n",
    "pca_key = \"PCA\"\n",
    "valid_key = \"Valid\"\n",
    "\n",
    "###\n",
    "\n",
    "from vervet1818_3d.utils.stats import pca_n_transform\n",
    "\n",
    "import h5py as h5\n",
    "\n",
    "out_path = os.path.join(out_folder, 'pli')\n",
    "\n",
    "if not os.path.exists(out_path):\n",
    "    os.mkdir(out_path)\n",
    "\n",
    "for k, r in tqdm(files_df.iterrows(), total=len(files_df)):\n",
    "    trans_section = pli.data.Section(r.file_trans)\n",
    "    dir_section = pli.data.Section(r.file_dir)\n",
    "    ret_section = pli.data.Section(r.file_ret)\n",
    "\n",
    "    test_features = pli2feat(trans_section.pyramid[pli_pyramid][:],\n",
    "                        np.deg2rad(dir_section.pyramid[pli_pyramid]),\n",
    "                        ret_section.pyramid[pli_pyramid][:],\n",
    "                        mask_pyramid - pli_pyramid)\n",
    "\n",
    "    mask_section = pli.data.Section(r.file_mask, data_group=mask_group)\n",
    "    test_mask = mask_section.pyramid[mask_pyramid][:]\n",
    "\n",
    "    test_valid = test_mask != background_class\n",
    "    test_std = scaler.transform(test_features.reshape(-1, test_features.shape[-1]))\n",
    "\n",
    "    test_pca = pca_n_transform(test_std, pca, n_components)\n",
    "    test_pca = test_pca.reshape(*test_features.shape[:2], test_pca.shape[-1])\n",
    "\n",
    "    out_file = os.path.basename(r.file_ret).replace('Retardation.nii', 'PCA')\n",
    "    with h5.File(os.path.join(out_path, out_file), 'w') as f:\n",
    "        pca_dset = f.create_dataset(pca_key, data=test_pca.transpose(2, 0, 1), dtype=np.float32)\n",
    "        pca_dset.attrs['spacing'] = r.spacing\n",
    "        pca_dset.attrs['origin'] = r.origin\n",
    "        pca_dset.attrs['variance_explained'] = variance_explained\n",
    "        pca_dset.attrs['eigenvalues'] = pca.explained_variance_\n",
    "        pca_dset.attrs['n_components'] = n_components\n",
    "        pca_dset.attrs['pl_components'] = pl_components\n",
    "\n",
    "        valid_dset = f.create_dataset(valid_key, data=test_valid)\n",
    "        valid_dset.attrs['spacing'] = r.spacing\n",
    "        valid_dset.attrs['origin'] = r.origin"
   ]
  },
  {
   "cell_type": "code",
   "execution_count": null,
   "metadata": {
    "collapsed": false,
    "pycharm": {
     "name": "#%%\n"
    }
   },
   "outputs": [],
   "source": [
    "test_ids = [860, 898, 961, 1061]\n",
    "\n",
    "###\n",
    "\n",
    "out_path = os.path.join(out_folder, 'pli', 'overview')\n",
    "\n",
    "for test_id in test_ids:\n",
    "    test_file = files_df.loc[files_df.id == test_id].iloc[0]\n",
    "\n",
    "    trans_section = pli.data.Section(test_file.file_trans)\n",
    "    dir_section = pli.data.Section(test_file.file_dir)\n",
    "    ret_section = pli.data.Section(test_file.file_ret)\n",
    "\n",
    "    test_features = pli2feat(trans_section.pyramid[pli_pyramid][:],\n",
    "                             np.deg2rad(dir_section.pyramid[pli_pyramid]),\n",
    "                             ret_section.pyramid[pli_pyramid][:],\n",
    "                             mask_pyramid - pli_pyramid)\n",
    "\n",
    "    mask_section = pli.data.Section(test_file.file_mask, data_group=mask_group)\n",
    "    test_mask = mask_section.pyramid[mask_pyramid][:]\n",
    "\n",
    "    test_features = np.rot90(test_features, 3)\n",
    "    test_mask = np.rot90(test_mask, 3)\n",
    "\n",
    "    test_tissue = test_mask != background_class\n",
    "\n",
    "    test_valid = test_tissue\n",
    "    test_std = scaler.transform(test_features.reshape(-1, test_features.shape[-1]))\n",
    "    test_pca = pca.transform(test_std)\n",
    "    test_pca = test_pca.reshape(*test_features.shape[:2], test_pca.shape[-1])\n",
    "\n",
    "    print_pca = np.empty((*test_features.shape[:2], test_pca.shape[-1]), dtype=np.float16)\n",
    "    for i in range(test_pca.shape[-1]):\n",
    "        print_pca[..., i][test_valid] = test_pca[..., i][test_valid]\n",
    "        print_pca[..., i][~test_valid] = np.min(test_pca[..., i])\n",
    "\n",
    "    if not os.path.exists(out_path):\n",
    "        os.mkdir(out_path)\n",
    "\n",
    "    print_components = min(n_components, 16)\n",
    "\n",
    "    im.show(np.stack([print_pca[..., i] for i in range(print_components)]), ch='NHW', size=16, file=out_path + f\"/pca_{n_components}_s{test_id:04d}\")"
   ]
  },
  {
   "cell_type": "code",
   "execution_count": null,
   "metadata": {
    "collapsed": false,
    "pycharm": {
     "name": "#%%\n"
    }
   },
   "outputs": [],
   "source": [
    "exit()"
   ]
  },
  {
   "cell_type": "code",
   "execution_count": null,
   "metadata": {
    "collapsed": false,
    "pycharm": {
     "name": "#%%\n"
    }
   },
   "outputs": [],
   "source": []
  }
 ],
 "metadata": {
  "kernelspec": {
   "display_name": "Venv (pli-env)",
   "language": "python",
   "name": "pli-env"
  },
  "language_info": {
   "codemirror_mode": {
    "name": "ipython",
    "version": 2
   },
   "file_extension": ".py",
   "mimetype": "text/x-python",
   "name": "python",
   "nbconvert_exporter": "python",
   "pygments_lexer": "ipython2",
   "version": "2.7.6"
  }
 },
 "nbformat": 4,
 "nbformat_minor": 0
}
