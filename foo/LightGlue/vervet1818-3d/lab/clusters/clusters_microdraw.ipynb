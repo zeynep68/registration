{
 "cells": [
  {
   "cell_type": "code",
   "execution_count": 1,
   "metadata": {},
   "outputs": [
    {
     "name": "stdout",
     "output_type": "stream",
     "text": [
      "/p/fastdata/pli/Private/oberstrass1/datasets/vervet1818-3d\n",
      "jrlogin12.jureca\n"
     ]
    }
   ],
   "source": [
    "%load_ext autoreload\n",
    "%autoreload 2\n",
    "\n",
    "%matplotlib inline\n",
    "\n",
    "%cd ../..\n",
    "\n",
    "!hostname"
   ]
  },
  {
   "cell_type": "code",
   "execution_count": 2,
   "metadata": {},
   "outputs": [],
   "source": [
    "import os\n",
    "\n",
    "import re\n",
    "import pandas as pd\n",
    "import numpy as np\n",
    "\n",
    "import pli\n",
    "import pli.image as im\n",
    "\n",
    "from tqdm import tqdm"
   ]
  },
  {
   "cell_type": "code",
   "execution_count": 10,
   "metadata": {},
   "outputs": [
    {
     "data": {
      "image/png": "[encoded data removed]",
      "text/plain": [
       "<Figure size 1400x100 with 1 Axes>"
      ]
     },
     "metadata": {},
     "output_type": "display_data"
    }
   ],
   "source": [
    "n_cluster = [3, 7, 14]\n",
    "\n",
    "mask_color = (0, 0, 0, 0)\n",
    "\n",
    "###\n",
    "\n",
    "import matplotlib.pyplot as plt\n",
    "import matplotlib.colors as mcolors\n",
    "\n",
    "import glasbey\n",
    "import seaborn as sns\n",
    "from matplotlib.colors import LinearSegmentedColormap\n",
    "\n",
    "color_palette = glasbey.create_palette(palette_size=n_cluster[-1])\n",
    "\n",
    "cmap_max = n_cluster[-1]\n",
    "\n",
    "# Get the colormap values as tuples with alpha channel\n",
    "colors = (np.array([mask_color] + [ mcolors.to_rgba(color_palette[i]) for i in range(cmap_max)]) * 255).astype(np.uint8)\n",
    "\n",
    "sns.palplot(color_palette)"
   ]
  },
  {
   "cell_type": "code",
   "execution_count": 16,
   "metadata": {},
   "outputs": [
    {
     "name": "stdout",
     "output_type": "stream",
     "text": [
      "data/aa/clusters/agglomerative_3/resnet50_planes8_962-1083_sphere_small/overlay/Agglomerative_3_s0898.h5\n",
      "data/aa/clusters/agglomerative_7/resnet50_planes8_962-1083_sphere_small/overlay/Agglomerative_7_s0898.h5\n",
      "data/aa/clusters/agglomerative_14/resnet50_planes8_962-1083_sphere_small/overlay/Agglomerative_14_s0898.h5\n"
     ]
    },
    {
     "name": "stderr",
     "output_type": "stream",
     "text": [
      "/p/home/jusers/oberstrass1/jureca/project/miniconda3/envs/pli/lib/python3.9/site-packages/atlaslib/image.py:497: UserWarning: level 0 is already located in pyramid path. Not linking again.\n",
      "  warnings.warn(\"level 0 is already located in pyramid path. Not linking again.\")\n"
     ]
    }
   ],
   "source": [
    "cluster_paths = {\n",
    "    3: \"data/aa/clusters/agglomerative_3/resnet50_planes8_962-1083_sphere_small/Agglomerative_3_s0898.h5\",\n",
    "    7: \"data/aa/clusters/agglomerative_7/resnet50_planes8_962-1083_sphere_small/Agglomerative_7_s0898.h5\",\n",
    "    14 : \"data/aa/clusters/agglomerative_14/resnet50_planes8_962-1083_sphere_small/Agglomerative_14_s0898.h5\",\n",
    "}\n",
    "\n",
    "out_paths = {\n",
    "    3: \"data/aa/clusters/agglomerative_3/resnet50_planes8_962-1083_sphere_small/overlay/Agglomerative_3_s0898.h5\",\n",
    "    7: \"data/aa/clusters/agglomerative_7/resnet50_planes8_962-1083_sphere_small/overlay/Agglomerative_7_s0898.h5\",\n",
    "    14 : \"data/aa/clusters/agglomerative_14/resnet50_planes8_962-1083_sphere_small/overlay/Agglomerative_14_s0898.h5\",\n",
    "}\n",
    "\n",
    "###\n",
    "\n",
    "from pli.data import Section\n",
    "import matplotlib.pyplot as plt\n",
    "import h5py as h5\n",
    "\n",
    "for k in cluster_paths.keys():\n",
    "\n",
    "    with h5.File(cluster_paths[k], 'r') as f:\n",
    "        cluster = f['Image'][:]\n",
    "        spacing = f['Image'].attrs['spacing']\n",
    "\n",
    "        current_data = cluster.copy()\n",
    "\n",
    "        colored_cluster = colors[cluster]\n",
    "\n",
    "    rgb_image = colors[cluster]\n",
    "    rgb_image = np.roll(rgb_image, (-1, -1), axis=(0, 1))\n",
    "    rgb_image = rgb_image.swapaxes(0, 1)[:, ::-1]\n",
    "\n",
    "    section = Section(image=rgb_image)\n",
    "    section.spacing = spacing\n",
    "    section.origin = (0, 0)\n",
    "    section.modality = 'Mask'\n",
    "    section.to_hdf5(out_paths[k], num_levels=6, compression='lzf', overwrite=True)\n",
    "\n",
    "    print(out_paths[k])"
   ]
  },
  {
   "cell_type": "code",
   "execution_count": 15,
   "metadata": {},
   "outputs": [
    {
     "data": {
      "text/plain": [
       "dict_keys([3, 7, 14])"
      ]
     },
     "execution_count": 15,
     "metadata": {},
     "output_type": "execute_result"
    }
   ],
   "source": [
    "plt.imshow(rgb_image)"
   ]
  },
  {
   "cell_type": "code",
   "execution_count": null,
   "metadata": {},
   "outputs": [],
   "source": []
  }
 ],
 "metadata": {
  "kernelspec": {
   "display_name": "pli",
   "language": "python",
   "name": "python3"
  },
  "language_info": {
   "codemirror_mode": {
    "name": "ipython",
    "version": 3
   },
   "file_extension": ".py",
   "mimetype": "text/x-python",
   "name": "python",
   "nbconvert_exporter": "python",
   "pygments_lexer": "ipython3",
   "version": "3.9.6"
  }
 },
 "nbformat": 4,
 "nbformat_minor": 2
}
