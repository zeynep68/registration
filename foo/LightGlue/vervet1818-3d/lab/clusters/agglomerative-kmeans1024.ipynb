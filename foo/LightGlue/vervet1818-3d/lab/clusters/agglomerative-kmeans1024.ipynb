{
 "cells": [
  {
   "cell_type": "code",
   "execution_count": 1,
   "metadata": {
    "collapsed": false,
    "pycharm": {
     "name": "#%%\n"
    }
   },
   "outputs": [
    {
     "name": "stdout",
     "output_type": "stream",
     "text": [
      "/p/fastdata/pli/Private/oberstrass1/datasets/vervet1818-3d\n",
      "jrlogin05.jureca\n"
     ]
    }
   ],
   "source": [
    "import matplotlib.pyplot as plt\n",
    "%load_ext autoreload\n",
    "%autoreload 2\n",
    "\n",
    "%matplotlib inline\n",
    "\n",
    "%cd ../..\n",
    "\n",
    "!hostname"
   ]
  },
  {
   "cell_type": "code",
   "execution_count": 2,
   "metadata": {
    "collapsed": false,
    "pycharm": {
     "name": "#%%\n"
    }
   },
   "outputs": [],
   "source": [
    "import os\n",
    "\n",
    "import re\n",
    "import pandas as pd\n",
    "import numpy as np\n",
    "\n",
    "import h5py as h5\n",
    "\n",
    "import pli\n",
    "import pli.image as im\n",
    "\n",
    "from tqdm import tqdm"
   ]
  },
  {
   "cell_type": "code",
   "execution_count": 62,
   "metadata": {
    "collapsed": false,
    "pycharm": {
     "name": "#%%\n"
    }
   },
   "outputs": [
    {
     "data": {
      "text/html": [
       "<div>\n",
       "<style scoped>\n",
       "    .dataframe tbody tr th:only-of-type {\n",
       "        vertical-align: middle;\n",
       "    }\n",
       "\n",
       "    .dataframe tbody tr th {\n",
       "        vertical-align: top;\n",
       "    }\n",
       "\n",
       "    .dataframe thead th {\n",
       "        text-align: right;\n",
       "    }\n",
       "</style>\n",
       "<table border=\"1\" class=\"dataframe\">\n",
       "  <thead>\n",
       "    <tr style=\"text-align: right;\">\n",
       "      <th></th>\n",
       "      <th>id</th>\n",
       "      <th>spacing</th>\n",
       "      <th>origin</th>\n",
       "      <th>file</th>\n",
       "    </tr>\n",
       "  </thead>\n",
       "  <tbody>\n",
       "    <tr>\n",
       "      <th>0</th>\n",
       "      <td>841</td>\n",
       "      <td>(84.37760174274445, 84.37760174274445)</td>\n",
       "      <td>[0.0, 0.0]</td>\n",
       "      <td>data/aa/clusters/kmeans_pca80_s1_1024/resnet50...</td>\n",
       "    </tr>\n",
       "    <tr>\n",
       "      <th>1</th>\n",
       "      <td>842</td>\n",
       "      <td>(84.37760174274445, 84.37760174274445)</td>\n",
       "      <td>[0.0, 0.0]</td>\n",
       "      <td>data/aa/clusters/kmeans_pca80_s1_1024/resnet50...</td>\n",
       "    </tr>\n",
       "    <tr>\n",
       "      <th>2</th>\n",
       "      <td>843</td>\n",
       "      <td>(84.37760174274445, 84.37760174274445)</td>\n",
       "      <td>[0.0, 0.0]</td>\n",
       "      <td>data/aa/clusters/kmeans_pca80_s1_1024/resnet50...</td>\n",
       "    </tr>\n",
       "    <tr>\n",
       "      <th>3</th>\n",
       "      <td>844</td>\n",
       "      <td>(84.37760174274445, 84.37760174274445)</td>\n",
       "      <td>[0.0, 0.0]</td>\n",
       "      <td>data/aa/clusters/kmeans_pca80_s1_1024/resnet50...</td>\n",
       "    </tr>\n",
       "    <tr>\n",
       "      <th>4</th>\n",
       "      <td>845</td>\n",
       "      <td>(84.37760174274445, 84.37760174274445)</td>\n",
       "      <td>[0.0, 0.0]</td>\n",
       "      <td>data/aa/clusters/kmeans_pca80_s1_1024/resnet50...</td>\n",
       "    </tr>\n",
       "  </tbody>\n",
       "</table>\n",
       "</div>"
      ],
      "text/plain": [
       "    id                                 spacing      origin  \\\n",
       "0  841  (84.37760174274445, 84.37760174274445)  [0.0, 0.0]   \n",
       "1  842  (84.37760174274445, 84.37760174274445)  [0.0, 0.0]   \n",
       "2  843  (84.37760174274445, 84.37760174274445)  [0.0, 0.0]   \n",
       "3  844  (84.37760174274445, 84.37760174274445)  [0.0, 0.0]   \n",
       "4  845  (84.37760174274445, 84.37760174274445)  [0.0, 0.0]   \n",
       "\n",
       "                                                file  \n",
       "0  data/aa/clusters/kmeans_pca80_s1_1024/resnet50...  \n",
       "1  data/aa/clusters/kmeans_pca80_s1_1024/resnet50...  \n",
       "2  data/aa/clusters/kmeans_pca80_s1_1024/resnet50...  \n",
       "3  data/aa/clusters/kmeans_pca80_s1_1024/resnet50...  \n",
       "4  data/aa/clusters/kmeans_pca80_s1_1024/resnet50...  "
      ]
     },
     "execution_count": 62,
     "metadata": {},
     "output_type": "execute_result"
    }
   ],
   "source": [
    "# Get mask and feature info\n",
    "\n",
    "# model_name = \"resnet50_planes8_sphere_small\"\n",
    "model_name = \"resnet50_planes8_962-1083_sphere_small\"\n",
    "# model_name = \"resnet50_planes8_962-1083_sphere\"\n",
    "# model_name = \"resnet50_planes8_962-1083_neighbor\"\n",
    "# model_name = \"resnet50_planes8_962-1083_circle\"\n",
    "# model_name = \"resnet50_planes8_overlap\"\n",
    "\n",
    "centroids = 1024\n",
    "\n",
    "kmeans_path = f\"data/aa/clusters/kmeans_pca80_s1_{centroids}/{model_name}\"\n",
    "# kmeans_path = f\"data/aa/clusters/kmeans_pca_s2_128/{model_name}\"\n",
    "\n",
    "# Group of the features in the H5 files\n",
    "cluster_group = \"Image\"\n",
    "\n",
    "###\n",
    "\n",
    "p = re.compile('.*s([0-9]{4}).*h5')\n",
    "\n",
    "feature_list = []\n",
    "cluster_centers = None\n",
    "for f in sorted(os.listdir(kmeans_path)):\n",
    "    match = p.match(f)\n",
    "    if match:\n",
    "        id = int(match[1])\n",
    "        cluster_section = pli.data.Section(path=os.path.join(kmeans_path, f))\n",
    "\n",
    "        if 'cluster_centers' in cluster_section.attrs.keys():\n",
    "            cluster_centers = cluster_section.attrs['cluster_centers']\n",
    "        else:\n",
    "            cluster_centers = cluster_section.handle.file['cluster_centers'][:]\n",
    "\n",
    "        \n",
    "        spacing = cluster_section.spacing\n",
    "        origin = cluster_section.origin\n",
    "        cluster_section.close_file_handle()\n",
    "        feature_list.append({'id': id, 'spacing': spacing, 'origin': origin, 'file': os.path.join(kmeans_path, f)})\n",
    "files_df = pd.DataFrame(feature_list)\n",
    "\n",
    "files_df.head()"
   ]
  },
  {
   "cell_type": "code",
   "execution_count": 63,
   "metadata": {},
   "outputs": [],
   "source": [
    "# Perform smoothing\n",
    "\n",
    "metric = 'euclidean' # 'euclidean'\n",
    "linkage = 'ward'  # 'ward'\n",
    "\n",
    "###\n",
    "\n",
    "from sklearn.cluster import AgglomerativeClustering\n",
    "from scipy.cluster.hierarchy import fcluster\n",
    "\n",
    "from vervet1818_3d.clustering import get_linkage_matrix\n",
    "\n",
    "ac = AgglomerativeClustering(n_clusters=None, distance_threshold=0., affinity=metric, linkage=linkage)\n",
    "ac.fit(cluster_centers)\n",
    "\n",
    "linkage_matrix = get_linkage_matrix(ac)"
   ]
  },
  {
   "cell_type": "code",
   "execution_count": 64,
   "metadata": {},
   "outputs": [],
   "source": [
    "plt.rcParams['font.size'] = 8\n",
    "plt.rcParams['xtick.labelsize'] = 6\n",
    "plt.rcParams['ytick.labelsize'] = 6\n",
    "plt.rcParams['axes.titlesize'] = 8\n",
    "plt.rcParams['axes.titleweight'] = 'bold'\n",
    "plt.rcParams['font.family'] = 'sans-serif'"
   ]
  },
  {
   "cell_type": "code",
   "execution_count": 65,
   "metadata": {},
   "outputs": [
    {
     "data": {
      "image/png": "[encoded data removed]",
      "text/plain": [
       "<Figure size 208.44x183.816 with 1 Axes>"
      ]
     },
     "metadata": {
      "needs_background": "light"
     },
     "output_type": "display_data"
    }
   ],
   "source": [
    "import numpy as np\n",
    "import matplotlib.pyplot as plt\n",
    "from sklearn.metrics import silhouette_score\n",
    "from sklearn.cluster import KMeans\n",
    "\n",
    "# Assuming cluster_centers is your feature matrix\n",
    "# cluster_centers should be of shape (n_samples, n_features)\n",
    "\n",
    "# Define a range of clusters to test\n",
    "# num_clusters_range = range(2, 26)\n",
    "num_clusters_range = range(2, 20)\n",
    "\n",
    "# Initialize an empty list to store silhouette scores\n",
    "silhouette_scores = []\n",
    "\n",
    "for num_clusters in num_clusters_range:\n",
    "    threshold = linkage_matrix[-num_clusters, 2]\n",
    "    cluster_labels = fcluster(linkage_matrix, threshold, criterion='distance')\n",
    "    silhouette_avg = silhouette_score(cluster_centers, cluster_labels)\n",
    "    silhouette_scores.append(silhouette_avg)\n",
    "\n",
    "# Plot the silhouette scores\n",
    "\n",
    "fig, ax = plt.subplots(figsize=(2.895, 2.553))\n",
    "\n",
    "ax.plot(num_clusters_range, silhouette_scores, marker='o', markersize=4)\n",
    "\n",
    "# Remove the top and right spines\n",
    "ax.spines['top'].set_visible(False)\n",
    "ax.spines['right'].set_visible(False)\n",
    "\n",
    "ax.set_xlabel('Number of clusters')\n",
    "ax.set_ylabel('Silhouette score')\n",
    "\n",
    "ax.set_xticks(range(2, 20, 2))\n",
    "ax.set_ylim(0.12 - 0.005, 0.25 + 0.005)\n",
    "\n",
    "# plt.vlines([3, 7, 14], ymin=min(silhouette_scores) - 0.005, ymax=max(silhouette_scores) + 0.005, linestyle='--', colors='black')\n",
    "\n",
    "#ax.text(3, max(silhouette_scores) + 0.006, f'3', ha='center', va='bottom', weight='bold')\n",
    "#ax.text(7, max(silhouette_scores) + 0.006, f'7', ha='center', va='bottom', weight='bold')\n",
    "#ax.text(14, max(silhouette_scores) + 0.006, f'14', ha='center', va='bottom', weight='bold')\n",
    "\n",
    "ax.grid(axis='x', linestyle='-', alpha=0.7)\n",
    "\n",
    "plt.title(f\"{centroids} k-means centroids\")\n",
    "\n",
    "plt.savefig(f\"doc/clusters/k-means_{centroids}.pdf\")\n",
    "plt.savefig(f\"doc/clusters/k-means_{centroids}.svg\")\n",
    "\n",
    "plt.show()"
   ]
  },
  {
   "cell_type": "code",
   "execution_count": 7,
   "metadata": {},
   "outputs": [
    {
     "data": {
      "image/png": "[encoded data removed]",
      "text/plain": [
       "<Figure size 1008x72 with 1 Axes>"
      ]
     },
     "metadata": {
      "needs_background": "light"
     },
     "output_type": "display_data"
    }
   ],
   "source": [
    "n_cluster = [3, 7, 14]\n",
    "# n_cluster = [2, 5, 9]\n",
    "\n",
    "import glasbey\n",
    "import seaborn as sns\n",
    "\n",
    "color_palette = glasbey.create_palette(palette_size=n_cluster[-1])\n",
    "#color_palette = glasbey.extend_palette(\n",
    "#    \"tab10\",\n",
    "#    palette_size=max(n_cluster),\n",
    "#    colorblind_safe=True,\n",
    "#    # cvd_severity=100\n",
    "#)\n",
    "sns.palplot(color_palette)"
   ]
  },
  {
   "cell_type": "code",
   "execution_count": 8,
   "metadata": {},
   "outputs": [
    {
     "name": "stderr",
     "output_type": "stream",
     "text": [
      "/tmp/ipykernel_26266/3752752256.py:10: MatplotlibDeprecationWarning: The register_cmap function was deprecated in Matplotlib 3.7 and will be removed two minor releases later. Use ``matplotlib.colormaps.register(name)`` instead.\n",
      "  plt.register_cmap(cmap=LinearSegmentedColormap.from_list(cmap, color_palette, N=len(color_palette)))\n"
     ]
    }
   ],
   "source": [
    "# Perform clustering\n",
    "\n",
    "from matplotlib.cm import register_cmap\n",
    "from matplotlib.colors import LinearSegmentedColormap\n",
    "\n",
    "cmap = 'test'\n",
    "\n",
    "# Register the colormap with a name (e.g., 'custom_cmap')\n",
    "try:\n",
    "    plt.register_cmap(cmap=LinearSegmentedColormap.from_list(cmap, color_palette, N=len(color_palette)))\n",
    "except:\n",
    "    pass\n",
    "\n",
    "cmap_max = 14\n",
    "\n",
    "###\n",
    "\n",
    "# Create clusterings\n",
    "\n",
    "from scipy.cluster.hierarchy import dendrogram\n",
    "from vervet1818_3d.clustering import index_to_color\n",
    "\n",
    "cluster_dict = {}\n",
    "for k in n_cluster:\n",
    "    threshold = linkage_matrix[-k, 2]\n",
    "    cluster_labels = fcluster(linkage_matrix, threshold, criterion='distance')\n",
    "    cluster_dict[k] = cluster_labels\n",
    "\n",
    "colors = cluster_dict[n_cluster[-1]].copy()\n",
    "\n",
    "\n",
    "def llf(ix):\n",
    "    return index_to_color(ix, colors, linkage_matrix)\n",
    "\n",
    "def lcf(ix):\n",
    "    import matplotlib.pyplot as plt\n",
    "    import matplotlib.colors as mcolors\n",
    "    \n",
    "    color_ix = index_to_color(ix, colors, linkage_matrix) - 1\n",
    "\n",
    "    c = mcolors.to_hex(color_palette[color_ix])\n",
    "\n",
    "    return c\n",
    "\n",
    "for k, clusters in cluster_dict.items():\n",
    "    results_dict = dendrogram(linkage_matrix, no_plot=True, leaf_label_func=llf, truncate_mode=\"lastp\", p=int(k), show_leaf_counts=False)\n",
    "    cluster_dict[k] = np.take(results_dict['ivl'], cluster_dict[k] - 1)"
   ]
  },
  {
   "cell_type": "code",
   "execution_count": 9,
   "metadata": {},
   "outputs": [
    {
     "ename": "ValueError",
     "evalue": "Unable to determine Axes to steal space for Colorbar. Either provide the *cax* argument to use as the Axes for the Colorbar, provide the *ax* argument to steal space from it, or add *mappable* to an Axes.",
     "output_type": "error",
     "traceback": [
      "\u001b[0;31m---------------------------------------------------------------------------\u001b[0m",
      "\u001b[0;31mValueError\u001b[0m                                Traceback (most recent call last)",
      "\u001b[0;32m/tmp/ipykernel_26266/3671629224.py\u001b[0m in \u001b[0;36m<cell line: 27>\u001b[0;34m()\u001b[0m\n\u001b[1;32m     25\u001b[0m \u001b[0;31m# Create a colormap from the specified palette\u001b[0m\u001b[0;34m\u001b[0m\u001b[0;34m\u001b[0m\u001b[0;34m\u001b[0m\u001b[0m\n\u001b[1;32m     26\u001b[0m \u001b[0msm\u001b[0m \u001b[0;34m=\u001b[0m \u001b[0mScalarMappable\u001b[0m\u001b[0;34m(\u001b[0m\u001b[0mcmap\u001b[0m\u001b[0;34m=\u001b[0m\u001b[0mcmap\u001b[0m\u001b[0;34m)\u001b[0m\u001b[0;34m\u001b[0m\u001b[0;34m\u001b[0m\u001b[0m\n\u001b[0;32m---> 27\u001b[0;31m \u001b[0mcbar\u001b[0m \u001b[0;34m=\u001b[0m \u001b[0mplt\u001b[0m\u001b[0;34m.\u001b[0m\u001b[0mcolorbar\u001b[0m\u001b[0;34m(\u001b[0m\u001b[0msm\u001b[0m\u001b[0;34m,\u001b[0m \u001b[0morientation\u001b[0m\u001b[0;34m=\u001b[0m\u001b[0;34m'vertical'\u001b[0m\u001b[0;34m,\u001b[0m \u001b[0mlocation\u001b[0m\u001b[0;34m=\u001b[0m\u001b[0;34m'left'\u001b[0m\u001b[0;34m,\u001b[0m \u001b[0mpad\u001b[0m\u001b[0;34m=\u001b[0m\u001b[0;36m0.\u001b[0m\u001b[0;34m)\u001b[0m\u001b[0;34m\u001b[0m\u001b[0;34m\u001b[0m\u001b[0m\n\u001b[0m\u001b[1;32m     28\u001b[0m \u001b[0mcbar\u001b[0m\u001b[0;34m.\u001b[0m\u001b[0mset_ticks\u001b[0m\u001b[0;34m(\u001b[0m\u001b[0mnp\u001b[0m\u001b[0;34m.\u001b[0m\u001b[0mlinspace\u001b[0m\u001b[0;34m(\u001b[0m\u001b[0;36m1\u001b[0m\u001b[0;34m/\u001b[0m\u001b[0;34m(\u001b[0m\u001b[0;36m2\u001b[0m\u001b[0;34m*\u001b[0m\u001b[0mshow_cluster\u001b[0m\u001b[0;34m)\u001b[0m\u001b[0;34m,\u001b[0m \u001b[0;36m1\u001b[0m \u001b[0;34m+\u001b[0m \u001b[0;36m1\u001b[0m\u001b[0;34m/\u001b[0m\u001b[0;34m(\u001b[0m\u001b[0;36m2\u001b[0m\u001b[0;34m*\u001b[0m\u001b[0mshow_cluster\u001b[0m\u001b[0;34m)\u001b[0m\u001b[0;34m,\u001b[0m \u001b[0mshow_cluster\u001b[0m\u001b[0;34m+\u001b[0m\u001b[0;36m1\u001b[0m\u001b[0;34m)\u001b[0m\u001b[0;34m)\u001b[0m\u001b[0;34m\u001b[0m\u001b[0;34m\u001b[0m\u001b[0m\n\u001b[1;32m     29\u001b[0m \u001b[0mcbar\u001b[0m\u001b[0;34m.\u001b[0m\u001b[0mset_ticklabels\u001b[0m\u001b[0;34m(\u001b[0m\u001b[0;34m[\u001b[0m\u001b[0mstr\u001b[0m\u001b[0;34m(\u001b[0m\u001b[0mi\u001b[0m\u001b[0;34m)\u001b[0m \u001b[0;32mfor\u001b[0m \u001b[0mi\u001b[0m \u001b[0;32min\u001b[0m \u001b[0mrange\u001b[0m\u001b[0;34m(\u001b[0m\u001b[0;36m1\u001b[0m\u001b[0;34m,\u001b[0m \u001b[0mshow_cluster\u001b[0m\u001b[0;34m+\u001b[0m\u001b[0;36m1\u001b[0m\u001b[0;34m)\u001b[0m\u001b[0;34m]\u001b[0m\u001b[0;34m)\u001b[0m\u001b[0;34m\u001b[0m\u001b[0;34m\u001b[0m\u001b[0m\n",
      "\u001b[0;32m/p/project/cjinm11/Private/oberstrass1/git/envs/pli-env/venv/lib/python3.9/site-packages/matplotlib/pyplot.py\u001b[0m in \u001b[0;36mcolorbar\u001b[0;34m(mappable, cax, ax, **kwargs)\u001b[0m\n\u001b[1;32m   2339\u001b[0m                                \u001b[0;34m'an image (with imshow) or a contour set ('\u001b[0m\u001b[0;34m\u001b[0m\u001b[0;34m\u001b[0m\u001b[0m\n\u001b[1;32m   2340\u001b[0m                                'with contourf).')\n\u001b[0;32m-> 2341\u001b[0;31m     \u001b[0mret\u001b[0m \u001b[0;34m=\u001b[0m \u001b[0mgcf\u001b[0m\u001b[0;34m(\u001b[0m\u001b[0;34m)\u001b[0m\u001b[0;34m.\u001b[0m\u001b[0mcolorbar\u001b[0m\u001b[0;34m(\u001b[0m\u001b[0mmappable\u001b[0m\u001b[0;34m,\u001b[0m \u001b[0mcax\u001b[0m\u001b[0;34m=\u001b[0m\u001b[0mcax\u001b[0m\u001b[0;34m,\u001b[0m \u001b[0max\u001b[0m\u001b[0;34m=\u001b[0m\u001b[0max\u001b[0m\u001b[0;34m,\u001b[0m \u001b[0;34m**\u001b[0m\u001b[0mkwargs\u001b[0m\u001b[0;34m)\u001b[0m\u001b[0;34m\u001b[0m\u001b[0;34m\u001b[0m\u001b[0m\n\u001b[0m\u001b[1;32m   2342\u001b[0m     \u001b[0;32mreturn\u001b[0m \u001b[0mret\u001b[0m\u001b[0;34m\u001b[0m\u001b[0;34m\u001b[0m\u001b[0m\n\u001b[1;32m   2343\u001b[0m \u001b[0;34m\u001b[0m\u001b[0m\n",
      "\u001b[0;32m/p/project/cjinm11/Private/oberstrass1/git/envs/pli-env/venv/lib/python3.9/site-packages/matplotlib/figure.py\u001b[0m in \u001b[0;36mcolorbar\u001b[0;34m(self, mappable, cax, ax, use_gridspec, **kwargs)\u001b[0m\n\u001b[1;32m   1283\u001b[0m         \u001b[0;32mif\u001b[0m \u001b[0mcax\u001b[0m \u001b[0;32mis\u001b[0m \u001b[0;32mNone\u001b[0m\u001b[0;34m:\u001b[0m\u001b[0;34m\u001b[0m\u001b[0;34m\u001b[0m\u001b[0m\n\u001b[1;32m   1284\u001b[0m             \u001b[0;32mif\u001b[0m \u001b[0max\u001b[0m \u001b[0;32mis\u001b[0m \u001b[0;32mNone\u001b[0m\u001b[0;34m:\u001b[0m\u001b[0;34m\u001b[0m\u001b[0;34m\u001b[0m\u001b[0m\n\u001b[0;32m-> 1285\u001b[0;31m                 raise ValueError(\n\u001b[0m\u001b[1;32m   1286\u001b[0m                     \u001b[0;34m'Unable to determine Axes to steal space for Colorbar. '\u001b[0m\u001b[0;34m\u001b[0m\u001b[0;34m\u001b[0m\u001b[0m\n\u001b[1;32m   1287\u001b[0m                     \u001b[0;34m'Either provide the *cax* argument to use as the Axes for '\u001b[0m\u001b[0;34m\u001b[0m\u001b[0;34m\u001b[0m\u001b[0m\n",
      "\u001b[0;31mValueError\u001b[0m: Unable to determine Axes to steal space for Colorbar. Either provide the *cax* argument to use as the Axes for the Colorbar, provide the *ax* argument to steal space from it, or add *mappable* to an Axes."
     ]
    },
    {
     "data": {
      "image/png": "[encoded data removed]",
      "text/plain": [
       "<Figure size 145.224x201.456 with 1 Axes>"
      ]
     },
     "metadata": {
      "needs_background": "light"
     },
     "output_type": "display_data"
    }
   ],
   "source": [
    "# Plot the corresponding dendrogram\n",
    "\n",
    "show_cluster = 14\n",
    "# show_cluster = 9\n",
    "\n",
    "###\n",
    "\n",
    "plt.rcParams['ytick.labelsize'] = 8\n",
    "plt.rcParams['lines.linewidth'] = .8\n",
    "\n",
    "import matplotlib.pyplot as plt\n",
    "from matplotlib.cm import ScalarMappable\n",
    "\n",
    "plt.figure(figsize=(2.017, 2.798))\n",
    "results_dict = dendrogram(linkage_matrix, link_color_func=lcf, leaf_label_func=llf, orientation='right', no_labels=True, truncate_mode=\"lastp\", p=show_cluster, show_leaf_counts=False)\n",
    "plt.xlabel('Distance')\n",
    "# plt.title('Dendrogram')\n",
    "plt.text(36, 140, f'3', ha='center', va='bottom', weight='bold')\n",
    "plt.text(22, 140, f'7', ha='center', va='bottom', weight='bold')\n",
    "plt.text(13, 140, f'14', ha='center', va='bottom', weight='bold')\n",
    "\n",
    "plt.vlines([36, 22, 13.], ymin=0, ymax=400, linestyle='--', colors='black')\n",
    "# plt.savefig(f\"tmp/dengrogram_{model_name}.svg\")\n",
    "\n",
    "# Create a colormap from the specified palette\n",
    "sm = ScalarMappable(cmap=cmap)\n",
    "cbar = plt.colorbar(sm, orientation='vertical', location='left', pad=0.)\n",
    "cbar.set_ticks(np.linspace(1/(2*show_cluster), 1 + 1/(2*show_cluster), show_cluster+1))\n",
    "cbar.set_ticklabels([str(i) for i in range(1, show_cluster+1)])\n",
    "\n",
    "#plt.savefig(\"doc/clusters/agglomerative-sphere_small-dendogram.png\")\n",
    "#plt.savefig(\"doc/clusters/agglomerative-sphere_small-dendogram.svg\")\n",
    "\n",
    "plt.show()"
   ]
  },
  {
   "cell_type": "code",
   "execution_count": 10,
   "metadata": {
    "collapsed": false,
    "pycharm": {
     "name": "#%%\n"
    }
   },
   "outputs": [
    {
     "name": "stdout",
     "output_type": "stream",
     "text": [
      "Use data/aa/clusters/kmeans_pca80_s1_1024/resnet50_planes8_962-1083_sphere_small/Kmeans_1024_s0961.h5\n",
      "Warning! Printing mask for non integer like array\n"
     ]
    },
    {
     "data": {
      "image/png": "[encoded data removed]",
      "text/plain": [
       "<Figure size 576x623.571 with 1 Axes>"
      ]
     },
     "metadata": {
      "needs_background": "light"
     },
     "output_type": "display_data"
    },
    {
     "name": "stdout",
     "output_type": "stream",
     "text": [
      "Warning! Printing mask for non integer like array\n"
     ]
    },
    {
     "data": {
      "image/png": "[encoded data removed]",
      "text/plain": [
       "<Figure size 576x623.571 with 1 Axes>"
      ]
     },
     "metadata": {
      "needs_background": "light"
     },
     "output_type": "display_data"
    },
    {
     "name": "stdout",
     "output_type": "stream",
     "text": [
      "Warning! Printing mask for non integer like array\n"
     ]
    },
    {
     "data": {
      "image/png": "[encoded data removed]",
      "text/plain": [
       "<Figure size 576x623.571 with 1 Axes>"
      ]
     },
     "metadata": {
      "needs_background": "light"
     },
     "output_type": "display_data"
    }
   ],
   "source": [
    "test_ix = 115\n",
    "\n",
    "###\n",
    "\n",
    "# Select test file\n",
    "file = files_df.loc[test_ix].file\n",
    "print(\"Use\", file)\n",
    "\n",
    "# Load test clusters and mask\n",
    "test_section = pli.data.Section(path=file)\n",
    "test_clusters = np.rot90(test_section.image[:], k=3)\n",
    "test_mask = test_clusters > 0\n",
    "\n",
    "# Map clusters\n",
    "\n",
    "for n in n_cluster:\n",
    "    print_clusters = test_clusters.copy()\n",
    "    print_clusters[test_mask] = cluster_dict[n][test_clusters[test_mask] - 1]\n",
    "\n",
    "    # Show mapped clusters\n",
    "    im.show(print_clusters, mask=~test_mask, cmap=cmap, mask_map='gray_r', alpha=1.0, interpolation='nearest', size=8, scale=False, vmin=1, vmax=cmap_max)"
   ]
  },
  {
   "cell_type": "code",
   "execution_count": 10,
   "metadata": {
    "collapsed": false,
    "pycharm": {
     "name": "#%%\n"
    }
   },
   "outputs": [
    {
     "name": "stdout",
     "output_type": "stream",
     "text": [
      "Write cluster sections to data/aa/clusters/agglomerative_3/resnet50_planes8_962-1083_sphere_small\n"
     ]
    },
    {
     "name": "stderr",
     "output_type": "stream",
     "text": [
      "100%|██████████| 116/116 [00:03<00:00, 37.73it/s]\n"
     ]
    },
    {
     "name": "stdout",
     "output_type": "stream",
     "text": [
      "Write cluster sections to data/aa/clusters/agglomerative_7/resnet50_planes8_962-1083_sphere_small\n"
     ]
    },
    {
     "name": "stderr",
     "output_type": "stream",
     "text": [
      "100%|██████████| 116/116 [00:02<00:00, 39.30it/s]\n"
     ]
    },
    {
     "name": "stdout",
     "output_type": "stream",
     "text": [
      "Write cluster sections to data/aa/clusters/agglomerative_14/resnet50_planes8_962-1083_sphere_small\n"
     ]
    },
    {
     "name": "stderr",
     "output_type": "stream",
     "text": [
      "100%|██████████| 116/116 [00:02<00:00, 46.63it/s]\n"
     ]
    }
   ],
   "source": [
    "# Map clustering to new sections\n",
    "\n",
    "out_folder = f\"data/aa/clusters/agglomerative\"\n",
    "out_modality = 'Mask'\n",
    "\n",
    "# Out parameters\n",
    "chunk_size = 128\n",
    "compression ='gzip'\n",
    "\n",
    "###\n",
    "\n",
    "for n in cluster_dict.keys():\n",
    "    # Create masks\n",
    "    out_path = os.path.join(out_folder + f\"_{n}\", model_name)\n",
    "\n",
    "    if not os.path.exists(out_path):\n",
    "        print(\"Create path\", out_path)\n",
    "        os.makedirs(out_path, exist_ok=True)\n",
    "\n",
    "    print(\"Write cluster sections to\", out_path)\n",
    "    for k, r in tqdm(files_df.iterrows(), total=len(files_df)):\n",
    "        cluster_section = pli.data.Section(path=r.file)\n",
    "        section_clusters = cluster_section.image[:]\n",
    "        test_mask = section_clusters > 0\n",
    "        section_clusters[test_mask] =  cluster_dict[n][section_clusters[test_mask] - 1]\n",
    "        section_clusters = section_clusters.astype(np.uint8)\n",
    "\n",
    "        out_file = f\"Agglomerative_{n}_s{r.id:04d}.h5\"\n",
    "        out_section = pli.data.Section(image=section_clusters)\n",
    "        out_section.spacing = r.spacing\n",
    "        out_section.origin = r.origin\n",
    "        out_section.maximum = 10\n",
    "        out_section.minimum = 1\n",
    "        out_section.modality = out_modality\n",
    "        out_section.attrs['n_mappings'] = n\n",
    "\n",
    "        out_section.to_hdf5(\n",
    "            os.path.join(out_path, out_file),\n",
    "            chunk_size=chunk_size,\n",
    "            compression=compression,\n",
    "            pyramid=False,\n",
    "            overwrite=True\n",
    "        )\n",
    "        out_section.close_file_handle()"
   ]
  },
  {
   "cell_type": "code",
   "execution_count": null,
   "metadata": {},
   "outputs": [],
   "source": []
  },
  {
   "cell_type": "code",
   "execution_count": null,
   "metadata": {},
   "outputs": [],
   "source": []
  }
 ],
 "metadata": {
  "kernelspec": {
   "display_name": "Venv (pli-env)",
   "language": "python",
   "name": "pli-env"
  },
  "language_info": {
   "codemirror_mode": {
    "name": "ipython",
    "version": 3
   },
   "file_extension": ".py",
   "mimetype": "text/x-python",
   "name": "python",
   "nbconvert_exporter": "python",
   "pygments_lexer": "ipython3",
   "version": "3.9.6"
  }
 },
 "nbformat": 4,
 "nbformat_minor": 0
}
