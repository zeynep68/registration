{
 "cells": [
  {
   "cell_type": "code",
   "execution_count": 1,
   "metadata": {
    "collapsed": false,
    "pycharm": {
     "name": "#%%\n"
    }
   },
   "outputs": [
    {
     "name": "stdout",
     "output_type": "stream",
     "text": [
      "/p/fastdata/pli/Private/oberstrass1/datasets/vervet1818-3d\n",
      "jrlogin12.jureca\r\n"
     ]
    }
   ],
   "source": [
    "%load_ext autoreload\n",
    "%autoreload 2\n",
    "\n",
    "%matplotlib inline\n",
    "\n",
    "%cd ../..\n",
    "\n",
    "!hostname"
   ]
  },
  {
   "cell_type": "code",
   "execution_count": 2,
   "metadata": {
    "collapsed": false,
    "pycharm": {
     "name": "#%%\n"
    }
   },
   "outputs": [],
   "source": [
    "import os\n",
    "\n",
    "import re\n",
    "import pandas as pd\n",
    "import numpy as np\n",
    "\n",
    "import pli\n",
    "import pli.image as im\n",
    "\n",
    "from tqdm import tqdm"
   ]
  },
  {
   "cell_type": "code",
   "execution_count": 3,
   "metadata": {
    "collapsed": false,
    "pycharm": {
     "name": "#%%\n"
    }
   },
   "outputs": [
    {
     "data": {
      "text/html": [
       "<div>\n",
       "<style scoped>\n",
       "    .dataframe tbody tr th:only-of-type {\n",
       "        vertical-align: middle;\n",
       "    }\n",
       "\n",
       "    .dataframe tbody tr th {\n",
       "        vertical-align: top;\n",
       "    }\n",
       "\n",
       "    .dataframe thead th {\n",
       "        text-align: right;\n",
       "    }\n",
       "</style>\n",
       "<table border=\"1\" class=\"dataframe\">\n",
       "  <thead>\n",
       "    <tr style=\"text-align: right;\">\n",
       "      <th></th>\n",
       "      <th>id</th>\n",
       "      <th>file_mask</th>\n",
       "      <th>file_feature</th>\n",
       "    </tr>\n",
       "  </thead>\n",
       "  <tbody>\n",
       "    <tr>\n",
       "      <th>0</th>\n",
       "      <td>841</td>\n",
       "      <td>data/aa/masks/cortex/Vervet1818aa_60mu_70ms_s0...</td>\n",
       "      <td>data/aa/features/resnet50_planes8_overlap/Verv...</td>\n",
       "    </tr>\n",
       "    <tr>\n",
       "      <th>1</th>\n",
       "      <td>842</td>\n",
       "      <td>data/aa/masks/cortex/Vervet1818aa_60mu_70ms_s0...</td>\n",
       "      <td>data/aa/features/resnet50_planes8_overlap/Verv...</td>\n",
       "    </tr>\n",
       "    <tr>\n",
       "      <th>2</th>\n",
       "      <td>843</td>\n",
       "      <td>data/aa/masks/cortex/Vervet1818aa_60mu_70ms_s0...</td>\n",
       "      <td>data/aa/features/resnet50_planes8_overlap/Verv...</td>\n",
       "    </tr>\n",
       "    <tr>\n",
       "      <th>3</th>\n",
       "      <td>844</td>\n",
       "      <td>data/aa/masks/cortex/Vervet1818aa_60mu_70ms_s0...</td>\n",
       "      <td>data/aa/features/resnet50_planes8_overlap/Verv...</td>\n",
       "    </tr>\n",
       "    <tr>\n",
       "      <th>4</th>\n",
       "      <td>845</td>\n",
       "      <td>data/aa/masks/cortex/Vervet1818aa_60mu_70ms_s0...</td>\n",
       "      <td>data/aa/features/resnet50_planes8_overlap/Verv...</td>\n",
       "    </tr>\n",
       "  </tbody>\n",
       "</table>\n",
       "</div>"
      ],
      "text/plain": [
       "    id                                          file_mask  \\\n",
       "0  841  data/aa/masks/cortex/Vervet1818aa_60mu_70ms_s0...   \n",
       "1  842  data/aa/masks/cortex/Vervet1818aa_60mu_70ms_s0...   \n",
       "2  843  data/aa/masks/cortex/Vervet1818aa_60mu_70ms_s0...   \n",
       "3  844  data/aa/masks/cortex/Vervet1818aa_60mu_70ms_s0...   \n",
       "4  845  data/aa/masks/cortex/Vervet1818aa_60mu_70ms_s0...   \n",
       "\n",
       "                                        file_feature  \n",
       "0  data/aa/features/resnet50_planes8_overlap/Verv...  \n",
       "1  data/aa/features/resnet50_planes8_overlap/Verv...  \n",
       "2  data/aa/features/resnet50_planes8_overlap/Verv...  \n",
       "3  data/aa/features/resnet50_planes8_overlap/Verv...  \n",
       "4  data/aa/features/resnet50_planes8_overlap/Verv...  "
      ]
     },
     "execution_count": 3,
     "metadata": {},
     "output_type": "execute_result"
    }
   ],
   "source": [
    "feature_path = \"data/aa/features/resnet50_planes8_overlap/\"\n",
    "mask_path = \"data/aa/masks/cortex/\"\n",
    "\n",
    "###\n",
    "\n",
    "p = re.compile('.*s([0-9]{4})_.*')\n",
    "\n",
    "feature_list = []\n",
    "for f in sorted(os.listdir(feature_path)):\n",
    "    id = int(p.match(f)[1])\n",
    "    feature_list.append({'id': id, 'file': os.path.join(feature_path, f)})\n",
    "feature_df = pd.DataFrame(feature_list).sort_values('id').reset_index(drop=True)\n",
    "\n",
    "mask_list = []\n",
    "for f in sorted(os.listdir(mask_path)):\n",
    "    id = int(p.match(f)[1])\n",
    "    mask_list.append({'id': id, 'file': os.path.join(mask_path, f)})\n",
    "mask_df = pd.DataFrame(mask_list).sort_values('id').reset_index(drop=True)\n",
    "\n",
    "files_df = mask_df.merge(feature_df, on='id', how='left', suffixes=('_mask', '_feature'))\n",
    "\n",
    "files_df.head()"
   ]
  },
  {
   "cell_type": "code",
   "execution_count": 4,
   "metadata": {
    "collapsed": false,
    "pycharm": {
     "name": "#%%\n"
    }
   },
   "outputs": [],
   "source": [
    "def read_section(feature_path, mask_path, mask_pyramid, data_group, mask_group='Image'):\n",
    "\n",
    "    feature_section = pli.data.Section(feature_path, data_group=data_group)\n",
    "    mask_section = pli.data.Section(mask_path, data_group=mask_group)\n",
    "\n",
    "    spacing = mask_section.spacing\n",
    "\n",
    "    mask = mask_section.pyramid[mask_pyramid][:]\n",
    "    features = feature_section.image[:].transpose(1, 2, 0)\n",
    "\n",
    "    if features.shape[0] >  mask.shape[0]:\n",
    "        features = features[:-1]\n",
    "    if features.shape[1] >  mask.shape[1]:\n",
    "        features = features[:, :-1]\n",
    "\n",
    "    feature_section.close_file_handle()\n",
    "    mask_section.close_file_handle()\n",
    "\n",
    "    return features, mask, spacing"
   ]
  },
  {
   "cell_type": "code",
   "execution_count": 14,
   "metadata": {
    "collapsed": false,
    "pycharm": {
     "name": "#%%\n"
    }
   },
   "outputs": [
    {
     "name": "stderr",
     "output_type": "stream",
     "text": [
      "100%|██████████████████████████████████████████████████████████████████████████████████████████████████████████████████████████████████████████████████████████████████████████████| 64/64 [00:13<00:00,  4.59it/s]\n"
     ]
    }
   ],
   "source": [
    "# Fit PCA by subsample of the data\n",
    "\n",
    "n_subsamples = 64  # len(files_df)  # Number of randomly selected sections, go for 234 in the end!!\n",
    "seed = 299792458\n",
    "\n",
    "# Group of the features in the H5 files\n",
    "data_group = 'Features/256'\n",
    "\n",
    "# Coressponding pyramid to the Feature size\n",
    "mask_pyramid = 6\n",
    "\n",
    "# Smoothing of the features\n",
    "# sigma = 1.0\n",
    "\n",
    "###\n",
    "\n",
    "from skimage import filters\n",
    "import numpy as np\n",
    "\n",
    "from tqdm import tqdm\n",
    "\n",
    "np.random.seed(seed)\n",
    "\n",
    "selected_features = []\n",
    "selected_masks = []\n",
    "\n",
    "for k, r in tqdm(files_df.sample(n_subsamples).sort_values('id').iterrows(), total=n_subsamples):\n",
    "    features, mask, spacing = read_section(r.file_feature, r.file_mask, mask_pyramid=mask_pyramid, data_group=data_group)\n",
    "    assert features.shape[:2] == mask.shape, f\"{features.shape[:2]} differs from {mask.shape}\"\n",
    "\n",
    "    # Smooth features a bit\n",
    "    # features_smoothed = filters.gaussian(features, multichannel=True, sigma=sigma)\n",
    "\n",
    "    selected_features.append(features)\n",
    "    selected_masks.append(mask)"
   ]
  },
  {
   "cell_type": "code",
   "execution_count": 15,
   "metadata": {
    "collapsed": false,
    "pycharm": {
     "name": "#%%\n"
    }
   },
   "outputs": [],
   "source": [
    "# Get data points without background\n",
    "\n",
    "WM = 1\n",
    "GM = 2\n",
    "BG = 3\n",
    "\n",
    "###\n",
    "\n",
    "valid_features = [f[m != BG] for f, m in zip(selected_features, selected_masks)]\n",
    "valid_lengths = [len(vf) for vf in valid_features]\n",
    "valid_features = np.vstack(valid_features)"
   ]
  },
  {
   "cell_type": "code",
   "execution_count": 16,
   "metadata": {
    "collapsed": false,
    "pycharm": {
     "name": "#%%\n"
    }
   },
   "outputs": [
    {
     "data": {
      "text/plain": [
       "PCA(n_components=256, svd_solver='full')"
      ]
     },
     "execution_count": 16,
     "metadata": {},
     "output_type": "execute_result"
    }
   ],
   "source": [
    "pca_components = len(valid_features[0])\n",
    "\n",
    "###\n",
    "\n",
    "from sklearn.decomposition import PCA\n",
    "\n",
    "pca = PCA(n_components=pca_components, svd_solver='full')\n",
    "pca.fit(valid_features)"
   ]
  },
  {
   "cell_type": "code",
   "execution_count": 17,
   "metadata": {
    "collapsed": false,
    "pycharm": {
     "name": "#%%\n"
    }
   },
   "outputs": [
    {
     "name": "stdout",
     "output_type": "stream",
     "text": [
      "Explained variance: 83.27% with 25 components\n"
     ]
    },
    {
     "data": {
      "image/png": "[encoded data removed]",
      "text/plain": [
       "<Figure size 432x288 with 1 Axes>"
      ]
     },
     "metadata": {
      "needs_background": "light"
     },
     "output_type": "display_data"
    }
   ],
   "source": [
    "n_components = 25\n",
    "\n",
    "###\n",
    "\n",
    "import matplotlib.pyplot as plt\n",
    "\n",
    "scree = np.cumsum(pca.explained_variance_)\n",
    "\n",
    "print(f\"Explained variance: {100 * scree[n_components -1] / scree[-1]:.2f}% with {n_components} components\")\n",
    "plt.plot(scree)\n",
    "plt.vlines(n_components, scree.max(), 0, colors='black', linestyles='--')\n",
    "plt.title(\"Cumulative explained variance\")\n",
    "plt.grid()\n",
    "plt.show()"
   ]
  },
  {
   "cell_type": "markdown",
   "metadata": {
    "collapsed": false,
    "pycharm": {
     "name": "#%% md\n"
    }
   },
   "source": [
    "TODO: Use [cuML](https://github.com/rapidsai/cuml) here"
   ]
  },
  {
   "cell_type": "markdown",
   "metadata": {
    "collapsed": false,
    "pycharm": {
     "name": "#%% md\n"
    }
   },
   "source": [
    "Test\n",
    "---\n",
    "\n",
    "Sections 841-843 were unseen during training of contrastive features"
   ]
  },
  {
   "cell_type": "code",
   "execution_count": 18,
   "metadata": {
    "collapsed": false,
    "pycharm": {
     "name": "#%%\n"
    }
   },
   "outputs": [
    {
     "data": {
      "text/html": [
       "<div>\n",
       "<style scoped>\n",
       "    .dataframe tbody tr th:only-of-type {\n",
       "        vertical-align: middle;\n",
       "    }\n",
       "\n",
       "    .dataframe tbody tr th {\n",
       "        vertical-align: top;\n",
       "    }\n",
       "\n",
       "    .dataframe thead th {\n",
       "        text-align: right;\n",
       "    }\n",
       "</style>\n",
       "<table border=\"1\" class=\"dataframe\">\n",
       "  <thead>\n",
       "    <tr style=\"text-align: right;\">\n",
       "      <th></th>\n",
       "      <th>id</th>\n",
       "      <th>file_mask</th>\n",
       "      <th>file_feature</th>\n",
       "    </tr>\n",
       "  </thead>\n",
       "  <tbody>\n",
       "    <tr>\n",
       "      <th>0</th>\n",
       "      <td>841</td>\n",
       "      <td>data/aa/masks/cortex/Vervet1818aa_60mu_70ms_s0...</td>\n",
       "      <td>data/aa/features/resnet50_planes8_overlap/Verv...</td>\n",
       "    </tr>\n",
       "    <tr>\n",
       "      <th>1</th>\n",
       "      <td>842</td>\n",
       "      <td>data/aa/masks/cortex/Vervet1818aa_60mu_70ms_s0...</td>\n",
       "      <td>data/aa/features/resnet50_planes8_overlap/Verv...</td>\n",
       "    </tr>\n",
       "    <tr>\n",
       "      <th>2</th>\n",
       "      <td>843</td>\n",
       "      <td>data/aa/masks/cortex/Vervet1818aa_60mu_70ms_s0...</td>\n",
       "      <td>data/aa/features/resnet50_planes8_overlap/Verv...</td>\n",
       "    </tr>\n",
       "    <tr>\n",
       "      <th>3</th>\n",
       "      <td>844</td>\n",
       "      <td>data/aa/masks/cortex/Vervet1818aa_60mu_70ms_s0...</td>\n",
       "      <td>data/aa/features/resnet50_planes8_overlap/Verv...</td>\n",
       "    </tr>\n",
       "    <tr>\n",
       "      <th>4</th>\n",
       "      <td>845</td>\n",
       "      <td>data/aa/masks/cortex/Vervet1818aa_60mu_70ms_s0...</td>\n",
       "      <td>data/aa/features/resnet50_planes8_overlap/Verv...</td>\n",
       "    </tr>\n",
       "  </tbody>\n",
       "</table>\n",
       "</div>"
      ],
      "text/plain": [
       "    id                                          file_mask  \\\n",
       "0  841  data/aa/masks/cortex/Vervet1818aa_60mu_70ms_s0...   \n",
       "1  842  data/aa/masks/cortex/Vervet1818aa_60mu_70ms_s0...   \n",
       "2  843  data/aa/masks/cortex/Vervet1818aa_60mu_70ms_s0...   \n",
       "3  844  data/aa/masks/cortex/Vervet1818aa_60mu_70ms_s0...   \n",
       "4  845  data/aa/masks/cortex/Vervet1818aa_60mu_70ms_s0...   \n",
       "\n",
       "                                        file_feature  \n",
       "0  data/aa/features/resnet50_planes8_overlap/Verv...  \n",
       "1  data/aa/features/resnet50_planes8_overlap/Verv...  \n",
       "2  data/aa/features/resnet50_planes8_overlap/Verv...  \n",
       "3  data/aa/features/resnet50_planes8_overlap/Verv...  \n",
       "4  data/aa/features/resnet50_planes8_overlap/Verv...  "
      ]
     },
     "execution_count": 18,
     "metadata": {},
     "output_type": "execute_result"
    }
   ],
   "source": [
    "# TODO: Clone all\n",
    "\n",
    "test_sections = files_df.id #  [841, 860, 961, 1061]\n",
    "\n",
    "###\n",
    "\n",
    "test_files_df = files_df[files_df.id.isin(test_sections)]\n",
    "test_files_df = test_files_df.reset_index(drop=True)\n",
    "\n",
    "test_files_df.head()"
   ]
  },
  {
   "cell_type": "code",
   "execution_count": 19,
   "metadata": {
    "collapsed": false,
    "pycharm": {
     "name": "#%%\n"
    }
   },
   "outputs": [
    {
     "name": "stderr",
     "output_type": "stream",
     "text": [
      "100%|████████████████████████████████████████████████████████████████████████████████████████████████████████████████████████████████████████████████████████████████████████████| 232/232 [04:15<00:00,  1.10s/it]\n"
     ]
    }
   ],
   "source": [
    "# Apply the fitted PCA to the test sections\n",
    "\n",
    "# Read test image for visualization\n",
    "# test_features = []\n",
    "test_pca = []\n",
    "test_masks = []\n",
    "test_spacings = []\n",
    "\n",
    "for k, r in tqdm(test_files_df.iterrows(), total=len(test_files_df)):\n",
    "    # Load features and mask\n",
    "    features, mask, spacing = read_section(r.file_feature, r.file_mask, mask_pyramid=mask_pyramid, data_group=data_group)\n",
    "\n",
    "    # Smooth features a bit\n",
    "    # features = filters.gaussian(features, multichannel=True, sigma=sigma)\n",
    "\n",
    "    # test_features.append(features)\n",
    "    test_masks.append(mask)\n",
    "    test_spacings.append(spacing)\n",
    "\n",
    "    # Create PCA\n",
    "    valid_test = features[mask != BG]\n",
    "    valid_pca = pca.transform(valid_test)\n",
    "    image_pca = np.zeros_like(features)\n",
    "    image_pca[ mask != BG] = valid_pca\n",
    "\n",
    "    test_pca.append(image_pca)"
   ]
  },
  {
   "cell_type": "code",
   "execution_count": 20,
   "metadata": {
    "collapsed": false,
    "pycharm": {
     "name": "#%%\n"
    }
   },
   "outputs": [],
   "source": [
    "# Store PCA Maps\n",
    "\n",
    "pca_dir = \"...\"\n",
    "\n",
    "###\n",
    "\n",
    "#for tpca, (k, r) in tqdm(zip(test_pca, test_files_df.iterrows()), total=len(test_files_df)):\n",
    "#    print(f\"{r.id}:\")\n",
    "#    im.show(np.stack([tpca[..., i] for i in range(n_components)]), ch='NHW', size=4)"
   ]
  },
  {
   "cell_type": "code",
   "execution_count": 11,
   "metadata": {
    "collapsed": false,
    "pycharm": {
     "name": "#%%\n"
    }
   },
   "outputs": [
    {
     "data": {
      "text/plain": [
       "KMeans(n_clusters=20, n_init=5, random_state=299792458)"
      ]
     },
     "execution_count": 11,
     "metadata": {},
     "output_type": "execute_result"
    }
   ],
   "source": [
    "n_clusters = 20\n",
    "n_subfeatures = 32000\n",
    "seed = 299792458\n",
    "\n",
    "###\n",
    "\n",
    "# Reduce to the selected valid components\n",
    "\n",
    "valid_components = pca.transform(valid_features)[:, :n_components]\n",
    "valid_components.shape\n",
    "\n",
    "from sklearn.cluster import KMeans\n",
    "\n",
    "np.random.seed(seed)\n",
    "\n",
    "ix = np.random.choice(np.arange(len(valid_components)), n_subfeatures)\n",
    "\n",
    "km = KMeans(n_clusters, n_init=5, max_iter=300, tol=1e-4, random_state=seed)\n",
    "km.fit(valid_components[ix])"
   ]
  },
  {
   "cell_type": "code",
   "execution_count": 14,
   "metadata": {
    "collapsed": false,
    "pycharm": {
     "name": "#%%\n"
    }
   },
   "outputs": [
    {
     "name": "stderr",
     "output_type": "stream",
     "text": [
      "100%|████████████████████████████████████████████████████████████████████████████████████████████████████████████████████████████████████████████████████████████████████████████| 232/232 [00:17<00:00, 13.27it/s]\n"
     ]
    }
   ],
   "source": [
    "test_kmeans = []\n",
    "\n",
    "for tpcas, tm, (k, r) in tqdm(zip(test_pca, test_masks, test_files_df.iterrows()), total=len(test_files_df)):\n",
    "    test_predictions = km.predict(tpcas[tm != BG][..., :n_components])\n",
    "    image_clusters = np.zeros(tm.shape[:2], dtype=np.uint8)\n",
    "    image_clusters[tm != BG] = test_predictions\n",
    "\n",
    "    test_kmeans.append(image_clusters)"
   ]
  },
  {
   "cell_type": "code",
   "execution_count": 21,
   "metadata": {
    "collapsed": false,
    "pycharm": {
     "name": "#%%\n"
    }
   },
   "outputs": [
    {
     "name": "stdout",
     "output_type": "stream",
     "text": [
      "id                                                            842\n",
      "file_mask       data/aa/masks/cortex/Vervet1818aa_60mu_70ms_s0...\n",
      "file_feature    data/aa/features/resnet50_planes8_overlap/Verv...\n",
      "Name: 1, dtype: object:\n",
      "Warning! Printing mask for non integer like array\n"
     ]
    },
    {
     "data": {
      "image/png": "[encoded data removed]",
      "text/plain": [
       "<Figure size 1152x1064.12 with 1 Axes>"
      ]
     },
     "metadata": {
      "needs_background": "light"
     },
     "output_type": "display_data"
    },
    {
     "name": "stdout",
     "output_type": "stream",
     "text": [
      "Warning! Printing mask for non integer like array\n"
     ]
    },
    {
     "data": {
      "image/png": "[encoded data removed]",
      "text/plain": [
       "<Figure size 1152x1064.12 with 1 Axes>"
      ]
     },
     "metadata": {
      "needs_background": "light"
     },
     "output_type": "display_data"
    }
   ],
   "source": [
    "# Example clusters\n",
    "\n",
    "ix = 1\n",
    "\n",
    "###\n",
    "\n",
    "print(f\"{test_files_df.loc[ix]}:\")\n",
    "\n",
    "im.show(test_kmeans[ix], mask=test_masks[ix] != GM, size=16, cmap='jet', mask_map='gray', alpha=1.0, interpolation='nearest')\n",
    "im.show(test_kmeans[ix], mask=test_masks[ix] != WM, size=16, cmap='jet', mask_map='gray', alpha=1.0, interpolation='nearest')"
   ]
  },
  {
   "cell_type": "code",
   "execution_count": 16,
   "metadata": {
    "collapsed": false,
    "pycharm": {
     "name": "#%%\n"
    }
   },
   "outputs": [],
   "source": [
    "n_mappings = 20\n",
    "\n",
    "###\n",
    "\n",
    "from sklearn.cluster import AgglomerativeClustering\n",
    "\n",
    "# linkage{‘ward’, ‘complete’, ‘average’, ‘single’}\n",
    "ac = AgglomerativeClustering(n_mappings, affinity='euclidean', linkage='ward')\n",
    "cluster_mapping = ac.fit_predict(km.cluster_centers_)"
   ]
  },
  {
   "cell_type": "code",
   "execution_count": 17,
   "metadata": {
    "collapsed": false,
    "pycharm": {
     "name": "#%%\n"
    }
   },
   "outputs": [
    {
     "name": "stderr",
     "output_type": "stream",
     "text": [
      "100%|██████████████████████████████████████████████████████████████████████████████████████████████████████████████████████████████████████████████████████████████████████████| 232/232 [00:00<00:00, 1366.56it/s]\n"
     ]
    }
   ],
   "source": [
    "# Apply agllomerative clustering to the kmeans clusters\n",
    "\n",
    "test_agglomerative = []\n",
    "\n",
    "for tkm, tm, (k, r) in tqdm(zip(test_kmeans, test_masks, test_files_df.iterrows()), total=len(test_files_df)):\n",
    "    aggl_predictions = cluster_mapping[tkm].astype(np.uint8)\n",
    "\n",
    "    image_clusters = np.zeros(tm.shape[:2], dtype=np.uint8)\n",
    "    image_clusters[tm != BG] =  aggl_predictions[tm != BG]\n",
    "\n",
    "    test_agglomerative.append(image_clusters)"
   ]
  },
  {
   "cell_type": "code",
   "execution_count": 22,
   "metadata": {
    "collapsed": false,
    "pycharm": {
     "name": "#%%\n"
    }
   },
   "outputs": [
    {
     "name": "stdout",
     "output_type": "stream",
     "text": [
      "id                                                            842\n",
      "file_mask       data/aa/masks/cortex/Vervet1818aa_60mu_70ms_s0...\n",
      "file_feature    data/aa/features/resnet50_planes8_overlap/Verv...\n",
      "Name: 1, dtype: object:\n",
      "Warning! Printing mask for non integer like array\n"
     ]
    },
    {
     "data": {
      "image/png": "[encoded data removed]",
      "text/plain": [
       "<Figure size 1152x1064.12 with 1 Axes>"
      ]
     },
     "metadata": {
      "needs_background": "light"
     },
     "output_type": "display_data"
    },
    {
     "name": "stdout",
     "output_type": "stream",
     "text": [
      "Warning! Printing mask for non integer like array\n"
     ]
    },
    {
     "data": {
      "image/png": "[encoded data removed]",
      "text/plain": [
       "<Figure size 1152x1064.12 with 1 Axes>"
      ]
     },
     "metadata": {
      "needs_background": "light"
     },
     "output_type": "display_data"
    }
   ],
   "source": [
    "# Example clusters\n",
    "\n",
    "ix = 1\n",
    "\n",
    "###\n",
    "\n",
    "print(f\"{test_files_df.loc[ix]}:\")\n",
    "\n",
    "im.show(test_agglomerative[ix], mask=test_masks[ix] != GM, size=16, cmap='tab20', mask_map='gray', alpha=1.0, interpolation='nearest')\n",
    "im.show(test_agglomerative[ix], mask=test_masks[ix] != WM, size=16, cmap='tab20', mask_map='gray', alpha=1.0, interpolation='nearest')"
   ]
  },
  {
   "cell_type": "code",
   "execution_count": 52,
   "metadata": {
    "collapsed": false,
    "pycharm": {
     "name": "#%%\n"
    }
   },
   "outputs": [
    {
     "name": "stdout",
     "output_type": "stream",
     "text": [
      "Volume spacing:\t(60, 84.37760192, 84.37760192)\n",
      "Volume shape:\t(243, 448, 485)\n",
      "Write masks to volume...\n"
     ]
    },
    {
     "name": "stderr",
     "output_type": "stream",
     "text": [
      "100%|███████████████████████████████████████████████████████████████████████████████████████████████████████████████████████████████████████████████████████████████████████████| 232/232 [00:00<00:00, 561.91it/s]\n"
     ]
    },
    {
     "name": "stdout",
     "output_type": "stream",
     "text": [
      "Infer missing masks...\n"
     ]
    },
    {
     "name": "stderr",
     "output_type": "stream",
     "text": [
      "100%|█████████████████████████████████████████████████████████████████████████████████████████████████████████████████████████████████████████████████████████████████████████████| 11/11 [00:00<00:00, 372.03it/s]\n"
     ]
    }
   ],
   "source": [
    "# Save volume\n",
    "\n",
    "out_file = f\"data/aa/clusters/agglomerative/reset50_planes8_overlap/clusters_{n_mappings}.h5\"\n",
    "out_group = 'volume'\n",
    "\n",
    "dtype =  np.uint8 # np.uint8, np.bool\n",
    "chunks = (1, 128, 128)  # (1, 256, 256)\n",
    "section_thickness = 60  # mu\n",
    "compression ='gzip'\n",
    "\n",
    "###\n",
    "\n",
    "import h5py as h5\n",
    "\n",
    "z_min = files_df.id.min()\n",
    "z_max = files_df.id.max()\n",
    "z_stacks = z_max - z_min + 1\n",
    "missing = sorted(set(np.arange(z_min, z_max)).difference(set(files_df.id)))\n",
    "\n",
    "spacing = test_spacings[0]\n",
    "shape = test_agglomerative[0].shape\n",
    "\n",
    "with h5.File(out_file, 'w') as f:\n",
    "\n",
    "    # Determine spacing of the volume (z, y, x)\n",
    "    out_spacing = (section_thickness, (2 ** mask_pyramid) * spacing[0], (2 ** mask_pyramid) * spacing[1])\n",
    "    print(f\"Volume spacing:\\t{out_spacing}\")\n",
    "\n",
    "    # Determine output shape of the volume (z, y, x)\n",
    "    out_shape = (z_stacks, *shape)\n",
    "    print(f\"Volume shape:\\t{out_shape}\")\n",
    "\n",
    "    affine = np.eye(4)[:3] * np.array(out_spacing)[None].T\n",
    "    f['affine'] = affine\n",
    "\n",
    "    # Create empty dataset\n",
    "    v_ds = f.create_dataset(\n",
    "        name=out_group,\n",
    "        shape=out_shape,\n",
    "        dtype=dtype,\n",
    "        chunks=chunks,\n",
    "        compression=compression,\n",
    "    )\n",
    "    v_ds.attrs['spacing'] = out_spacing\n",
    "\n",
    "    print(\"Write masks to volume...\")\n",
    "    for clusters, (k, r) in tqdm(zip(test_agglomerative, test_files_df.iterrows()), total=len(test_files_df)):\n",
    "\n",
    "        # Write mask to volume\n",
    "        z_ix = r.id - z_min\n",
    "        v_ds[z_ix] = clusters\n",
    "\n",
    "    print(\"Infer missing masks...\")\n",
    "    ids = list(test_files_df.id.values)\n",
    "    for m in tqdm(missing):\n",
    "        # Get two closes sections to infer values from\n",
    "        close = ids[np.abs((np.array(ids) - m)).argsort()[0]]\n",
    "        ix_1 = close - z_min\n",
    "        mask_inter = v_ds[ix_1][:]\n",
    "\n",
    "        # Write mask to volume\n",
    "        z_ix = m - z_min\n",
    "        v_ds[z_ix] = mask_inter\n",
    "\n",
    "        ids.append(m)\n",
    "        # test_files_df = test_files_df.append(pd.DataFrame([{'id': m, 'fil': None}]), ignore_index=True)"
   ]
  },
  {
   "cell_type": "code",
   "execution_count": null,
   "metadata": {
    "collapsed": false,
    "pycharm": {
     "name": "#%%\n"
    }
   },
   "outputs": [],
   "source": []
  }
 ],
 "metadata": {
  "kernelspec": {
   "display_name": "Venv (pli-env)",
   "language": "python",
   "name": "pli-env"
  },
  "language_info": {
   "codemirror_mode": {
    "name": "ipython",
    "version": 2
   },
   "file_extension": ".py",
   "mimetype": "text/x-python",
   "name": "python",
   "nbconvert_exporter": "python",
   "pygments_lexer": "ipython2",
   "version": "2.7.6"
  }
 },
 "nbformat": 4,
 "nbformat_minor": 0
}
