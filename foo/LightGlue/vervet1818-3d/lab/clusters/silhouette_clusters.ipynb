{
 "cells": [
  {
   "cell_type": "code",
   "execution_count": 1,
   "metadata": {
    "collapsed": false,
    "jupyter": {
     "outputs_hidden": false
    },
    "pycharm": {
     "name": "#%%\n"
    },
    "tags": []
   },
   "outputs": [
    {
     "name": "stdout",
     "output_type": "stream",
     "text": [
      "/p/fastdata/pli/Private/oberstrass1/datasets/vervet1818-3d\n",
      "jrc0002\n"
     ]
    }
   ],
   "source": [
    "import matplotlib.pyplot as plt\n",
    "%load_ext autoreload\n",
    "%autoreload 2\n",
    "\n",
    "%matplotlib inline\n",
    "\n",
    "%cd ../..\n",
    "\n",
    "!hostname"
   ]
  },
  {
   "cell_type": "code",
   "execution_count": 2,
   "metadata": {
    "collapsed": false,
    "jupyter": {
     "outputs_hidden": false
    },
    "pycharm": {
     "name": "#%%\n"
    },
    "tags": []
   },
   "outputs": [],
   "source": [
    "import os\n",
    "\n",
    "import re\n",
    "import pandas as pd\n",
    "import numpy as np\n",
    "\n",
    "import h5py as h5\n",
    "\n",
    "import pli\n",
    "import pli.image as im\n",
    "\n",
    "from tqdm import tqdm"
   ]
  },
  {
   "cell_type": "code",
   "execution_count": 3,
   "metadata": {
    "tags": []
   },
   "outputs": [],
   "source": [
    "# Get mask and feature info\n",
    "\n",
    "methods = [\n",
    "    \"cl-2d_all_augmentations_circle_small\",\n",
    "    \"cl-2d_only_flip_circle_small\",\n",
    "    \"cl-3d_no_augmentations_sphere_small\",\n",
    "    \"cl-3d_only_scale-attenuation_sphere_small\",\n",
    "    \"cl-2d_no_augmentations_circle_small\",\n",
    "    \"cl-2d_only_scale-attenuation_circle_small\",\n",
    "    \"cl-3d_only_affine_sphere_small\",\n",
    "    \"cl-3d_only_scale-thickness_sphere_small\",\n",
    "    \"cl-2d_only_affine_circle_small\",\n",
    "    \"cl-2d_only_scale-thickness_circle_small\",\n",
    "    \"cl-3d_only_blur_sphere_small\",\n",
    "    \"cl-2d_only_blur_circle_small\",\n",
    "    \"cl-3d_all_augmentations_sphere_small\",\n",
    "    \"cl-3d_only_flip_sphere_small\"\n",
    "]\n",
    "\n",
    "mask_path = \"data/aa/masks/cortex/\"\n",
    "\n",
    "# Group of the cluster in the H5 files\n",
    "cluster_group = \"Image\"\n",
    "\n",
    "# Group of the features in the H5 files\n",
    "feature_group = \"PCA\"\n",
    "\n",
    "# Masks\n",
    "mask_pyramid = 6\n",
    "background_cluster = 0\n",
    "\n",
    "# Smoothing of the features\n",
    "smooth_sigma = 1.0\n",
    "\n",
    "# Groups\n",
    "mask_group = 'Image'\n",
    "background_class = 3\n",
    "\n",
    "###\n",
    "\n",
    "###\n",
    "\n",
    "from skimage import filters\n",
    "from vervet1818_3d.utils.io import read_masked_features\n",
    "\n",
    "from tqdm import tqdm\n",
    "\n",
    "p = re.compile('.*s([0-9]{4})_.*h5')\n",
    "\n",
    "mask_list = []\n",
    "for f in sorted(os.listdir(mask_path)):\n",
    "    match = p.match(f)\n",
    "    if match:\n",
    "        id = int(match[1])\n",
    "        mask_list.append({'id': id, 'file_mask': os.path.join(mask_path, f)})\n",
    "mask_df = pd.DataFrame(mask_list)\n",
    "\n",
    "files_dataframes = {}\n",
    "\n",
    "def load_features(model_name):\n",
    "\n",
    "    feature_folder = f\"data/aa/pca_80/{model_name}\"\n",
    "\n",
    "    feature_list = []\n",
    "    for f in sorted(os.listdir(feature_folder)):\n",
    "        match = p.match(f)\n",
    "        if match:\n",
    "            id = int(match[1])\n",
    "            with h5.File(os.path.join(feature_folder, f)) as h5f:\n",
    "                spacing = h5f[feature_group].attrs['spacing']\n",
    "                origin = h5f[feature_group].attrs['origin']\n",
    "            feature_list.append({'id': id, 'spacing': spacing, 'origin': origin,\n",
    "                                    'file_features': os.path.join(feature_folder, f)})\n",
    "    feature_df = pd.DataFrame(feature_list)\n",
    "\n",
    "    files_df = mask_df.merge(feature_df, on='id', how='inner').sort_values('id').reset_index(drop=True)\n",
    "\n",
    "    selected_features = []\n",
    "    selected_masks = []\n",
    "\n",
    "    for k, r in files_df.sort_values('id').iterrows():\n",
    "        features, mask = read_masked_features(\n",
    "            r.file_features,\n",
    "            r.file_mask,\n",
    "            mask_pyramid=mask_pyramid,\n",
    "            data_group=feature_group,\n",
    "            mask_group=mask_group\n",
    "        )\n",
    "        assert features.shape[:2] == mask.shape, f\"{features.shape[:2]} differs from {mask.shape}\"\n",
    "\n",
    "        # Smooth features a bit\n",
    "        if smooth_sigma > 0.:\n",
    "            features = filters.gaussian(features, multichannel=True, sigma=smooth_sigma)\n",
    "\n",
    "        selected_features.append(features)\n",
    "        selected_masks.append(mask)\n",
    "\n",
    "\n",
    "    valid_features = [f[m != background_class] for f, m in zip(selected_features, selected_masks)]\n",
    "    valid_lengths = [len(vf) for vf in valid_features]\n",
    "    valid_features = np.vstack(valid_features)\n",
    "\n",
    "    print(f\"Valid features have shape {valid_features.shape}\")\n",
    "\n",
    "    return valid_features"
   ]
  },
  {
   "cell_type": "code",
   "execution_count": 8,
   "metadata": {
    "tags": []
   },
   "outputs": [
    {
     "name": "stderr",
     "output_type": "stream",
     "text": [
      "  0%|          | 0/14 [00:00<?, ?it/s]"
     ]
    },
    {
     "name": "stdout",
     "output_type": "stream",
     "text": [
      "Load features ...\n",
      "Valid features have shape (9171147, 15)\n",
      "Fit 2 clusters 10 times\n",
      "Fit 8 clusters 10 times\n",
      "Fit 32 clusters 10 times\n",
      "Fit 128 clusters 10 times\n"
     ]
    },
    {
     "name": "stderr",
     "output_type": "stream",
     "text": [
      "  7%|▋         | 1/14 [01:04<14:03, 64.86s/it]"
     ]
    },
    {
     "name": "stdout",
     "output_type": "stream",
     "text": [
      "Load features ...\n",
      "Valid features have shape (9171147, 21)\n",
      "Fit 2 clusters 10 times\n",
      "Fit 8 clusters 10 times\n",
      "Fit 32 clusters 10 times\n",
      "Fit 128 clusters 10 times\n"
     ]
    },
    {
     "name": "stderr",
     "output_type": "stream",
     "text": [
      " 14%|█▍        | 2/14 [02:40<16:38, 83.24s/it]"
     ]
    },
    {
     "name": "stdout",
     "output_type": "stream",
     "text": [
      "Load features ...\n",
      "Valid features have shape (9171147, 48)\n",
      "Fit 2 clusters 10 times\n",
      "Fit 8 clusters 10 times\n",
      "Fit 32 clusters 10 times\n",
      "Fit 128 clusters 10 times\n"
     ]
    },
    {
     "name": "stderr",
     "output_type": "stream",
     "text": [
      " 21%|██▏       | 3/14 [04:46<18:45, 102.33s/it]"
     ]
    },
    {
     "name": "stdout",
     "output_type": "stream",
     "text": [
      "Load features ...\n",
      "Valid features have shape (9171147, 50)\n",
      "Fit 2 clusters 10 times\n",
      "Fit 8 clusters 10 times\n",
      "Fit 32 clusters 10 times\n",
      "Fit 128 clusters 10 times\n"
     ]
    },
    {
     "name": "stderr",
     "output_type": "stream",
     "text": [
      " 29%|██▊       | 4/14 [06:49<18:28, 110.83s/it]"
     ]
    },
    {
     "name": "stdout",
     "output_type": "stream",
     "text": [
      "Load features ...\n",
      "Valid features have shape (9171147, 23)\n",
      "Fit 2 clusters 10 times\n",
      "Fit 8 clusters 10 times\n",
      "Fit 32 clusters 10 times\n",
      "Fit 128 clusters 10 times\n"
     ]
    },
    {
     "name": "stderr",
     "output_type": "stream",
     "text": [
      " 36%|███▌      | 5/14 [08:30<16:05, 107.33s/it]"
     ]
    },
    {
     "name": "stdout",
     "output_type": "stream",
     "text": [
      "Load features ...\n",
      "Valid features have shape (9171147, 19)\n",
      "Fit 2 clusters 10 times\n",
      "Fit 8 clusters 10 times\n",
      "Fit 32 clusters 10 times\n",
      "Fit 128 clusters 10 times\n"
     ]
    },
    {
     "name": "stderr",
     "output_type": "stream",
     "text": [
      " 43%|████▎     | 6/14 [10:15<14:09, 106.25s/it]"
     ]
    },
    {
     "name": "stdout",
     "output_type": "stream",
     "text": [
      "Load features ...\n",
      "Valid features have shape (9171147, 42)\n",
      "Fit 2 clusters 10 times\n",
      "Fit 8 clusters 10 times\n",
      "Fit 32 clusters 10 times\n",
      "Fit 128 clusters 10 times\n"
     ]
    },
    {
     "name": "stderr",
     "output_type": "stream",
     "text": [
      " 50%|█████     | 7/14 [12:11<12:47, 109.63s/it]"
     ]
    },
    {
     "name": "stdout",
     "output_type": "stream",
     "text": [
      "Load features ...\n",
      "Valid features have shape (9171147, 49)\n",
      "Fit 2 clusters 10 times\n",
      "Fit 8 clusters 10 times\n",
      "Fit 32 clusters 10 times\n",
      "Fit 128 clusters 10 times\n"
     ]
    },
    {
     "name": "stderr",
     "output_type": "stream",
     "text": [
      " 57%|█████▋    | 8/14 [14:12<11:19, 113.33s/it]"
     ]
    },
    {
     "name": "stdout",
     "output_type": "stream",
     "text": [
      "Load features ...\n",
      "Valid features have shape (9171147, 17)\n",
      "Fit 2 clusters 10 times\n",
      "Fit 8 clusters 10 times\n",
      "Fit 32 clusters 10 times\n",
      "Fit 128 clusters 10 times\n"
     ]
    },
    {
     "name": "stderr",
     "output_type": "stream",
     "text": [
      " 64%|██████▍   | 9/14 [15:41<08:47, 105.46s/it]"
     ]
    },
    {
     "name": "stdout",
     "output_type": "stream",
     "text": [
      "Load features ...\n",
      "Valid features have shape (9171147, 24)\n",
      "Fit 2 clusters 10 times\n",
      "Fit 8 clusters 10 times\n",
      "Fit 32 clusters 10 times\n",
      "Fit 128 clusters 10 times\n"
     ]
    },
    {
     "name": "stderr",
     "output_type": "stream",
     "text": [
      " 71%|███████▏  | 10/14 [17:07<06:37, 99.48s/it]"
     ]
    },
    {
     "name": "stdout",
     "output_type": "stream",
     "text": [
      "Load features ...\n",
      "Valid features have shape (9171147, 50)\n",
      "Fit 2 clusters 10 times\n",
      "Fit 8 clusters 10 times\n",
      "Fit 32 clusters 10 times\n",
      "Fit 128 clusters 10 times\n"
     ]
    },
    {
     "name": "stderr",
     "output_type": "stream",
     "text": [
      " 79%|███████▊  | 11/14 [19:03<05:13, 104.60s/it]"
     ]
    },
    {
     "name": "stdout",
     "output_type": "stream",
     "text": [
      "Load features ...\n",
      "Valid features have shape (9171147, 23)\n",
      "Fit 2 clusters 10 times\n",
      "Fit 8 clusters 10 times\n",
      "Fit 32 clusters 10 times\n",
      "Fit 128 clusters 10 times\n"
     ]
    },
    {
     "name": "stderr",
     "output_type": "stream",
     "text": [
      " 86%|████████▌ | 12/14 [20:37<03:22, 101.37s/it]"
     ]
    },
    {
     "name": "stdout",
     "output_type": "stream",
     "text": [
      "Load features ...\n",
      "Valid features have shape (9171147, 29)\n",
      "Fit 2 clusters 10 times\n",
      "Fit 8 clusters 10 times\n",
      "Fit 32 clusters 10 times\n",
      "Fit 128 clusters 10 times\n"
     ]
    },
    {
     "name": "stderr",
     "output_type": "stream",
     "text": [
      " 93%|█████████▎| 13/14 [22:13<01:39, 99.74s/it] "
     ]
    },
    {
     "name": "stdout",
     "output_type": "stream",
     "text": [
      "Load features ...\n",
      "Valid features have shape (9171147, 54)\n",
      "Fit 2 clusters 10 times\n",
      "Fit 8 clusters 10 times\n",
      "Fit 32 clusters 10 times\n",
      "Fit 128 clusters 10 times\n"
     ]
    },
    {
     "name": "stderr",
     "output_type": "stream",
     "text": [
      "100%|██████████| 14/14 [24:11<00:00, 103.64s/it]\n"
     ]
    }
   ],
   "source": [
    "# Optimal number depends on each feature embedding. So we try different numbers of clusters\n",
    "n_clusters = [2, 8, 32, 128]\n",
    "\n",
    "n_iter = 10 # 10\n",
    "max_iter = 300 # 100\n",
    "\n",
    "n_samples = 10_000\n",
    "seed = 299792458\n",
    "\n",
    "###\n",
    "\n",
    "from collections import namedtuple\n",
    "\n",
    "from sklearn.metrics import silhouette_score\n",
    "from sklearn.cluster import KMeans\n",
    "from tqdm import tqdm\n",
    "\n",
    "Result = namedtuple(\"Result\", ['method', 'n_clusters', 'silhouette_scores'])\n",
    "results = []\n",
    "\n",
    "for m in tqdm(methods):\n",
    "    print(\"Load features ...\")\n",
    "    valid_features = load_features(m)\n",
    "\n",
    "    for nc in n_clusters:\n",
    "        print(f\"Fit {nc} clusters {n_iter} times\")\n",
    "        silhouette_scores = []\n",
    "\n",
    "        for n in range(n_iter):\n",
    "            np.random.seed(seed + n)\n",
    "\n",
    "            # Reduce to the selected valid components\n",
    "            ix = np.random.choice(np.arange(len(valid_features)), n_samples)\n",
    "\n",
    "            km = KMeans(nc, n_init=1, max_iter=max_iter, tol=1e-4, random_state=(seed + n), verbose=False)\n",
    "            cluster_labels = km.fit_predict(valid_features[ix])\n",
    "\n",
    "            silhouette_scores.append(silhouette_score(valid_features[ix], cluster_labels))\n",
    "\n",
    "        results.append(Result(m, nc, silhouette_scores))"
   ]
  },
  {
   "cell_type": "code",
   "execution_count": 9,
   "metadata": {
    "tags": []
   },
   "outputs": [
    {
     "data": {
      "text/html": [
       "<div>\n",
       "<style scoped>\n",
       "    .dataframe tbody tr th:only-of-type {\n",
       "        vertical-align: middle;\n",
       "    }\n",
       "\n",
       "    .dataframe tbody tr th {\n",
       "        vertical-align: top;\n",
       "    }\n",
       "\n",
       "    .dataframe thead th {\n",
       "        text-align: right;\n",
       "    }\n",
       "</style>\n",
       "<table border=\"1\" class=\"dataframe\">\n",
       "  <thead>\n",
       "    <tr style=\"text-align: right;\">\n",
       "      <th></th>\n",
       "      <th>method</th>\n",
       "      <th>n_clusters</th>\n",
       "      <th>silhouette_scores</th>\n",
       "      <th>mean_silhouette</th>\n",
       "      <th>std_err_silhouette</th>\n",
       "    </tr>\n",
       "  </thead>\n",
       "  <tbody>\n",
       "    <tr>\n",
       "      <th>0</th>\n",
       "      <td>cl-2d_all_augmentations_circle_small</td>\n",
       "      <td>2</td>\n",
       "      <td>[0.32832813, 0.33136317, 0.33770776, 0.3330199...</td>\n",
       "      <td>0.333661</td>\n",
       "      <td>0.000944</td>\n",
       "    </tr>\n",
       "    <tr>\n",
       "      <th>1</th>\n",
       "      <td>cl-2d_all_augmentations_circle_small</td>\n",
       "      <td>8</td>\n",
       "      <td>[0.24040191, 0.25170472, 0.2393448, 0.22192466...</td>\n",
       "      <td>0.249659</td>\n",
       "      <td>0.003890</td>\n",
       "    </tr>\n",
       "    <tr>\n",
       "      <th>2</th>\n",
       "      <td>cl-2d_all_augmentations_circle_small</td>\n",
       "      <td>32</td>\n",
       "      <td>[0.21511704, 0.2193213, 0.21206336, 0.21128039...</td>\n",
       "      <td>0.213862</td>\n",
       "      <td>0.001722</td>\n",
       "    </tr>\n",
       "    <tr>\n",
       "      <th>3</th>\n",
       "      <td>cl-2d_all_augmentations_circle_small</td>\n",
       "      <td>128</td>\n",
       "      <td>[0.18830153, 0.18426615, 0.1895832, 0.18970875...</td>\n",
       "      <td>0.184597</td>\n",
       "      <td>0.001353</td>\n",
       "    </tr>\n",
       "    <tr>\n",
       "      <th>4</th>\n",
       "      <td>cl-2d_only_flip_circle_small</td>\n",
       "      <td>2</td>\n",
       "      <td>[0.20351152, 0.2023205, 0.20528288, 0.19764656...</td>\n",
       "      <td>0.199221</td>\n",
       "      <td>0.004088</td>\n",
       "    </tr>\n",
       "  </tbody>\n",
       "</table>\n",
       "</div>"
      ],
      "text/plain": [
       "                                 method  n_clusters  \\\n",
       "0  cl-2d_all_augmentations_circle_small           2   \n",
       "1  cl-2d_all_augmentations_circle_small           8   \n",
       "2  cl-2d_all_augmentations_circle_small          32   \n",
       "3  cl-2d_all_augmentations_circle_small         128   \n",
       "4          cl-2d_only_flip_circle_small           2   \n",
       "\n",
       "                                   silhouette_scores  mean_silhouette  \\\n",
       "0  [0.32832813, 0.33136317, 0.33770776, 0.3330199...         0.333661   \n",
       "1  [0.24040191, 0.25170472, 0.2393448, 0.22192466...         0.249659   \n",
       "2  [0.21511704, 0.2193213, 0.21206336, 0.21128039...         0.213862   \n",
       "3  [0.18830153, 0.18426615, 0.1895832, 0.18970875...         0.184597   \n",
       "4  [0.20351152, 0.2023205, 0.20528288, 0.19764656...         0.199221   \n",
       "\n",
       "   std_err_silhouette  \n",
       "0            0.000944  \n",
       "1            0.003890  \n",
       "2            0.001722  \n",
       "3            0.001353  \n",
       "4            0.004088  "
      ]
     },
     "execution_count": 9,
     "metadata": {},
     "output_type": "execute_result"
    }
   ],
   "source": [
    "json_path = \"doc/ablation/silhouette.json\"\n",
    "\n",
    "###\n",
    "\n",
    "import pandas as pd\n",
    "\n",
    "result_frame = pd.DataFrame(results)\n",
    "\n",
    "result_frame['mean_silhouette'] = result_frame['silhouette_scores'].apply(np.mean)\n",
    "result_frame['std_err_silhouette'] = result_frame['silhouette_scores'].apply(lambda x: np.std(x, ddof=1) / np.sqrt(len(x)))\n",
    "\n",
    "result_frame.to_json(json_path)\n",
    "\n",
    "result_frame.head()"
   ]
  },
  {
   "cell_type": "code",
   "execution_count": 10,
   "metadata": {
    "tags": []
   },
   "outputs": [
    {
     "data": {
      "text/html": [
       "<div>\n",
       "<style scoped>\n",
       "    .dataframe tbody tr th:only-of-type {\n",
       "        vertical-align: middle;\n",
       "    }\n",
       "\n",
       "    .dataframe tbody tr th {\n",
       "        vertical-align: top;\n",
       "    }\n",
       "\n",
       "    .dataframe thead th {\n",
       "        text-align: right;\n",
       "    }\n",
       "</style>\n",
       "<table border=\"1\" class=\"dataframe\">\n",
       "  <thead>\n",
       "    <tr style=\"text-align: right;\">\n",
       "      <th></th>\n",
       "      <th>method</th>\n",
       "      <th>n_clusters</th>\n",
       "      <th>silhouette_scores</th>\n",
       "      <th>mean_silhouette</th>\n",
       "      <th>std_err_silhouette</th>\n",
       "    </tr>\n",
       "  </thead>\n",
       "  <tbody>\n",
       "    <tr>\n",
       "      <th>0</th>\n",
       "      <td>cl-2d_all_augmentations_circle_small</td>\n",
       "      <td>2</td>\n",
       "      <td>[0.3283281326, 0.33136317130000004, 0.33770775...</td>\n",
       "      <td>0.333661</td>\n",
       "      <td>0.000944</td>\n",
       "    </tr>\n",
       "    <tr>\n",
       "      <th>1</th>\n",
       "      <td>cl-2d_all_augmentations_circle_small</td>\n",
       "      <td>8</td>\n",
       "      <td>[0.2404019088, 0.2517047226, 0.2393448055, 0.2...</td>\n",
       "      <td>0.249659</td>\n",
       "      <td>0.003890</td>\n",
       "    </tr>\n",
       "    <tr>\n",
       "      <th>2</th>\n",
       "      <td>cl-2d_all_augmentations_circle_small</td>\n",
       "      <td>32</td>\n",
       "      <td>[0.2151170373, 0.21932129560000002, 0.21206335...</td>\n",
       "      <td>0.213862</td>\n",
       "      <td>0.001722</td>\n",
       "    </tr>\n",
       "    <tr>\n",
       "      <th>3</th>\n",
       "      <td>cl-2d_all_augmentations_circle_small</td>\n",
       "      <td>128</td>\n",
       "      <td>[0.1883015335, 0.18426615000000002, 0.18958319...</td>\n",
       "      <td>0.184597</td>\n",
       "      <td>0.001353</td>\n",
       "    </tr>\n",
       "    <tr>\n",
       "      <th>4</th>\n",
       "      <td>cl-2d_only_flip_circle_small</td>\n",
       "      <td>2</td>\n",
       "      <td>[0.20351152120000002, 0.2023205012, 0.20528288...</td>\n",
       "      <td>0.199221</td>\n",
       "      <td>0.004088</td>\n",
       "    </tr>\n",
       "  </tbody>\n",
       "</table>\n",
       "</div>"
      ],
      "text/plain": [
       "                                 method  n_clusters  \\\n",
       "0  cl-2d_all_augmentations_circle_small           2   \n",
       "1  cl-2d_all_augmentations_circle_small           8   \n",
       "2  cl-2d_all_augmentations_circle_small          32   \n",
       "3  cl-2d_all_augmentations_circle_small         128   \n",
       "4          cl-2d_only_flip_circle_small           2   \n",
       "\n",
       "                                   silhouette_scores  mean_silhouette  \\\n",
       "0  [0.3283281326, 0.33136317130000004, 0.33770775...         0.333661   \n",
       "1  [0.2404019088, 0.2517047226, 0.2393448055, 0.2...         0.249659   \n",
       "2  [0.2151170373, 0.21932129560000002, 0.21206335...         0.213862   \n",
       "3  [0.1883015335, 0.18426615000000002, 0.18958319...         0.184597   \n",
       "4  [0.20351152120000002, 0.2023205012, 0.20528288...         0.199221   \n",
       "\n",
       "   std_err_silhouette  \n",
       "0            0.000944  \n",
       "1            0.003890  \n",
       "2            0.001722  \n",
       "3            0.001353  \n",
       "4            0.004088  "
      ]
     },
     "execution_count": 10,
     "metadata": {},
     "output_type": "execute_result"
    }
   ],
   "source": [
    "# Read stored values\n",
    "\n",
    "result_frame = pd.read_json(json_path)\n",
    "\n",
    "result_frame.head()"
   ]
  },
  {
   "cell_type": "code",
   "execution_count": 15,
   "metadata": {
    "tags": []
   },
   "outputs": [
    {
     "data": {
      "text/html": [
       "<div>\n",
       "<style scoped>\n",
       "    .dataframe tbody tr th:only-of-type {\n",
       "        vertical-align: middle;\n",
       "    }\n",
       "\n",
       "    .dataframe tbody tr th {\n",
       "        vertical-align: top;\n",
       "    }\n",
       "\n",
       "    .dataframe thead tr th {\n",
       "        text-align: left;\n",
       "    }\n",
       "</style>\n",
       "<table border=\"1\" class=\"dataframe\">\n",
       "  <thead>\n",
       "    <tr>\n",
       "      <th></th>\n",
       "      <th>method</th>\n",
       "      <th colspan=\"4\" halign=\"left\">mean_silhouette</th>\n",
       "      <th colspan=\"4\" halign=\"left\">std_err_silhouette</th>\n",
       "    </tr>\n",
       "    <tr>\n",
       "      <th>n_clusters</th>\n",
       "      <th></th>\n",
       "      <th>2</th>\n",
       "      <th>8</th>\n",
       "      <th>32</th>\n",
       "      <th>128</th>\n",
       "      <th>2</th>\n",
       "      <th>8</th>\n",
       "      <th>32</th>\n",
       "      <th>128</th>\n",
       "    </tr>\n",
       "  </thead>\n",
       "  <tbody>\n",
       "    <tr>\n",
       "      <th>0</th>\n",
       "      <td>cl-2d_all_augmentations_circle_small</td>\n",
       "      <td>0.33</td>\n",
       "      <td>0.25</td>\n",
       "      <td>0.21</td>\n",
       "      <td>0.18</td>\n",
       "      <td>0.000944</td>\n",
       "      <td>0.003890</td>\n",
       "      <td>0.001722</td>\n",
       "      <td>0.001353</td>\n",
       "    </tr>\n",
       "    <tr>\n",
       "      <th>1</th>\n",
       "      <td>cl-2d_no_augmentations_circle_small</td>\n",
       "      <td>0.15</td>\n",
       "      <td>0.18</td>\n",
       "      <td>0.17</td>\n",
       "      <td>0.15</td>\n",
       "      <td>0.001280</td>\n",
       "      <td>0.001217</td>\n",
       "      <td>0.000748</td>\n",
       "      <td>0.000407</td>\n",
       "    </tr>\n",
       "    <tr>\n",
       "      <th>2</th>\n",
       "      <td>cl-2d_only_affine_circle_small</td>\n",
       "      <td>0.18</td>\n",
       "      <td>0.25</td>\n",
       "      <td>0.22</td>\n",
       "      <td>0.18</td>\n",
       "      <td>0.001864</td>\n",
       "      <td>0.002453</td>\n",
       "      <td>0.001005</td>\n",
       "      <td>0.000849</td>\n",
       "    </tr>\n",
       "    <tr>\n",
       "      <th>3</th>\n",
       "      <td>cl-2d_only_blur_circle_small</td>\n",
       "      <td>0.15</td>\n",
       "      <td>0.18</td>\n",
       "      <td>0.17</td>\n",
       "      <td>0.16</td>\n",
       "      <td>0.001047</td>\n",
       "      <td>0.001791</td>\n",
       "      <td>0.000952</td>\n",
       "      <td>0.000864</td>\n",
       "    </tr>\n",
       "    <tr>\n",
       "      <th>4</th>\n",
       "      <td>cl-2d_only_flip_circle_small</td>\n",
       "      <td>0.20</td>\n",
       "      <td>0.21</td>\n",
       "      <td>0.18</td>\n",
       "      <td>0.15</td>\n",
       "      <td>0.004088</td>\n",
       "      <td>0.003956</td>\n",
       "      <td>0.000939</td>\n",
       "      <td>0.000740</td>\n",
       "    </tr>\n",
       "  </tbody>\n",
       "</table>\n",
       "</div>"
      ],
      "text/plain": [
       "                                          method mean_silhouette              \\\n",
       "n_clusters                                                     2     8    32   \n",
       "0           cl-2d_all_augmentations_circle_small            0.33  0.25  0.21   \n",
       "1            cl-2d_no_augmentations_circle_small            0.15  0.18  0.17   \n",
       "2                 cl-2d_only_affine_circle_small            0.18  0.25  0.22   \n",
       "3                   cl-2d_only_blur_circle_small            0.15  0.18  0.17   \n",
       "4                   cl-2d_only_flip_circle_small            0.20  0.21  0.18   \n",
       "\n",
       "                 std_err_silhouette                                \n",
       "n_clusters   128                  2         8        32       128  \n",
       "0           0.18           0.000944  0.003890  0.001722  0.001353  \n",
       "1           0.15           0.001280  0.001217  0.000748  0.000407  \n",
       "2           0.18           0.001864  0.002453  0.001005  0.000849  \n",
       "3           0.16           0.001047  0.001791  0.000952  0.000864  \n",
       "4           0.15           0.004088  0.003956  0.000939  0.000740  "
      ]
     },
     "execution_count": 15,
     "metadata": {},
     "output_type": "execute_result"
    }
   ],
   "source": [
    "pivot_df = result_frame.pivot(index='method', columns='n_clusters')\n",
    "pivot_df.drop(columns=['silhouette_scores'], inplace=True)\n",
    "\n",
    "# Reset the index to make 'method' a column again\n",
    "pivot_df.reset_index(inplace=True)\n",
    "\n",
    "pivot_df = pivot_df.sort_values(['method'])\n",
    "\n",
    "pivot_df = pivot_df.round({\n",
    "    ('mean_silhouette', 2): 2,\n",
    "    ('mean_silhouette', 8): 2,\n",
    "    ('mean_silhouette', 32): 2,\n",
    "    ('mean_silhouette', 128): 2,\n",
    "    \n",
    "})\n",
    "\n",
    "\n",
    "pivot_df.head()"
   ]
  },
  {
   "cell_type": "code",
   "execution_count": 16,
   "metadata": {
    "tags": []
   },
   "outputs": [
    {
     "name": "stdout",
     "output_type": "stream",
     "text": [
      "|    | ('method', '')                            |   ('mean_silhouette', 2) |   ('mean_silhouette', 8) |   ('mean_silhouette', 32) |   ('mean_silhouette', 128) |   ('std_err_silhouette', 2) |   ('std_err_silhouette', 8) |   ('std_err_silhouette', 32) |   ('std_err_silhouette', 128) |\n",
      "|---:|:------------------------------------------|-------------------------:|-------------------------:|--------------------------:|---------------------------:|----------------------------:|----------------------------:|-----------------------------:|------------------------------:|\n",
      "|  0 | cl-2d_all_augmentations_circle_small      |                     0.33 |                     0.25 |                      0.21 |                       0.18 |                 0.000943793 |                 0.00389019  |                  0.00172193  |                   0.00135305  |\n",
      "|  1 | cl-2d_no_augmentations_circle_small       |                     0.15 |                     0.18 |                      0.17 |                       0.15 |                 0.00127975  |                 0.00121702  |                  0.000747546 |                   0.000407132 |\n",
      "|  2 | cl-2d_only_affine_circle_small            |                     0.18 |                     0.25 |                      0.22 |                       0.18 |                 0.00186429  |                 0.00245258  |                  0.00100536  |                   0.000848703 |\n",
      "|  3 | cl-2d_only_blur_circle_small              |                     0.15 |                     0.18 |                      0.17 |                       0.16 |                 0.00104724  |                 0.00179105  |                  0.00095238  |                   0.000864283 |\n",
      "|  4 | cl-2d_only_flip_circle_small              |                     0.2  |                     0.21 |                      0.18 |                       0.15 |                 0.00408838  |                 0.0039557   |                  0.00093934  |                   0.000739809 |\n",
      "|  5 | cl-2d_only_scale-attenuation_circle_small |                     0.16 |                     0.18 |                      0.18 |                       0.15 |                 0.00168025  |                 0.00135849  |                  0.00123078  |                   0.000958443 |\n",
      "|  6 | cl-2d_only_scale-thickness_circle_small   |                     0.16 |                     0.17 |                      0.18 |                       0.15 |                 0.00368238  |                 0.0022219   |                  0.00151036  |                   0.000147596 |\n",
      "|  7 | cl-3d_all_augmentations_sphere_small      |                     0.21 |                     0.2  |                      0.17 |                       0.13 |                 0.00542504  |                 0.00290505  |                  0.000671907 |                   0.000676948 |\n",
      "|  8 | cl-3d_no_augmentations_sphere_small       |                     0.26 |                     0.14 |                      0.12 |                       0.1  |                 0.0025538   |                 0.00207227  |                  0.000677404 |                   0.000763315 |\n",
      "|  9 | cl-3d_only_affine_sphere_small            |                     0.16 |                     0.15 |                      0.14 |                       0.13 |                 0.00191893  |                 0.00267411  |                  0.0010629   |                   0.000432022 |\n",
      "| 10 | cl-3d_only_blur_sphere_small              |                     0.18 |                     0.13 |                      0.12 |                       0.11 |                 0.00257565  |                 0.000830295 |                  0.00139488  |                   0.000826995 |\n",
      "| 11 | cl-3d_only_flip_sphere_small              |                     0.13 |                     0.14 |                      0.13 |                       0.11 |                 0.00270418  |                 0.00132503  |                  0.000947729 |                   0.000566278 |\n",
      "| 12 | cl-3d_only_scale-attenuation_sphere_small |                     0.15 |                     0.14 |                      0.12 |                       0.1  |                 0.00145784  |                 0.00233601  |                  0.000963543 |                   0.000484283 |\n",
      "| 13 | cl-3d_only_scale-thickness_sphere_small   |                     0.16 |                     0.15 |                      0.12 |                       0.1  |                 0.000670484 |                 0.00270984  |                  0.00166129  |                   0.00052618  |\n"
     ]
    }
   ],
   "source": [
    "print(pivot_df.to_markdown())"
   ]
  },
  {
   "cell_type": "markdown",
   "metadata": {},
   "source": [
    "|    | ('method', '')                            |   ('mean_silhouette', 2) |   ('mean_silhouette', 8) |   ('mean_silhouette', 32) |   ('mean_silhouette', 128) |   ('std_err_silhouette', 2) |   ('std_err_silhouette', 8) |   ('std_err_silhouette', 32) |   ('std_err_silhouette', 128) |\n",
    "|---:|:------------------------------------------|-------------------------:|-------------------------:|--------------------------:|---------------------------:|----------------------------:|----------------------------:|-----------------------------:|------------------------------:|\n",
    "|  0 | cl-2d_all_augmentations_circle_small      |                     0.33 |                     0.25 |                      0.21 |                       0.18 |                 0.000943793 |                 0.00389019  |                  0.00172193  |                   0.00135305  |\n",
    "|  1 | cl-2d_no_augmentations_circle_small       |                     0.15 |                     0.18 |                      0.17 |                       0.15 |                 0.00127975  |                 0.00121702  |                  0.000747546 |                   0.000407132 |\n",
    "|  2 | cl-2d_only_affine_circle_small            |                     0.18 |                     0.25 |                      0.22 |                       0.18 |                 0.00186429  |                 0.00245258  |                  0.00100536  |                   0.000848703 |\n",
    "|  3 | cl-2d_only_blur_circle_small              |                     0.15 |                     0.18 |                      0.17 |                       0.16 |                 0.00104724  |                 0.00179105  |                  0.00095238  |                   0.000864283 |\n",
    "|  4 | cl-2d_only_flip_circle_small              |                     0.2  |                     0.21 |                      0.18 |                       0.15 |                 0.00408838  |                 0.0039557   |                  0.00093934  |                   0.000739809 |\n",
    "|  5 | cl-2d_only_scale-attenuation_circle_small |                     0.16 |                     0.18 |                      0.18 |                       0.15 |                 0.00168025  |                 0.00135849  |                  0.00123078  |                   0.000958443 |\n",
    "|  6 | cl-2d_only_scale-thickness_circle_small   |                     0.16 |                     0.17 |                      0.18 |                       0.15 |                 0.00368238  |                 0.0022219   |                  0.00151036  |                   0.000147596 |\n",
    "|  7 | cl-3d_all_augmentations_sphere_small      |                     0.21 |                     0.2  |                      0.17 |                       0.13 |                 0.00542504  |                 0.00290505  |                  0.000671907 |                   0.000676948 |\n",
    "|  8 | cl-3d_no_augmentations_sphere_small       |                     0.26 |                     0.14 |                      0.12 |                       0.1  |                 0.0025538   |                 0.00207227  |                  0.000677404 |                   0.000763315 |\n",
    "|  9 | cl-3d_only_affine_sphere_small            |                     0.16 |                     0.15 |                      0.14 |                       0.13 |                 0.00191893  |                 0.00267411  |                  0.0010629   |                   0.000432022 |\n",
    "| 10 | cl-3d_only_blur_sphere_small              |                     0.18 |                     0.13 |                      0.12 |                       0.11 |                 0.00257565  |                 0.000830295 |                  0.00139488  |                   0.000826995 |\n",
    "| 11 | cl-3d_only_flip_sphere_small              |                     0.13 |                     0.14 |                      0.13 |                       0.11 |                 0.00270418  |                 0.00132503  |                  0.000947729 |                   0.000566278 |\n",
    "| 12 | cl-3d_only_scale-attenuation_sphere_small |                     0.15 |                     0.14 |                      0.12 |                       0.1  |                 0.00145784  |                 0.00233601  |                  0.000963543 |                   0.000484283 |\n",
    "| 13 | cl-3d_only_scale-thickness_sphere_small   |                     0.16 |                     0.15 |                      0.12 |                       0.1  |                 0.000670484 |                 0.00270984  |                  0.00166129  |                   0.00052618  |\n"
   ]
  },
  {
   "cell_type": "code",
   "execution_count": null,
   "metadata": {},
   "outputs": [],
   "source": []
  }
 ],
 "metadata": {
  "kernelspec": {
   "display_name": "Venv (pli-env)",
   "language": "python",
   "name": "pli-env"
  },
  "language_info": {
   "codemirror_mode": {
    "name": "ipython",
    "version": 3
   },
   "file_extension": ".py",
   "mimetype": "text/x-python",
   "name": "python",
   "nbconvert_exporter": "python",
   "pygments_lexer": "ipython3",
   "version": "3.9.6"
  }
 },
 "nbformat": 4,
 "nbformat_minor": 4
}
