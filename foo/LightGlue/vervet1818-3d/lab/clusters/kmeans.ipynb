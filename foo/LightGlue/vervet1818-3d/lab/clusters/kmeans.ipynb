{
 "cells": [
  {
   "cell_type": "code",
   "execution_count": 1,
   "metadata": {
    "collapsed": false,
    "pycharm": {
     "name": "#%%\n"
    }
   },
   "outputs": [
    {
     "name": "stdout",
     "output_type": "stream",
     "text": [
      "/p/fastdata/pli/Private/oberstrass1/datasets/vervet1818-3d\n",
      "jrlogin02.jureca\r\n"
     ]
    }
   ],
   "source": [
    "%load_ext autoreload\n",
    "%autoreload 2\n",
    "\n",
    "%matplotlib inline\n",
    "\n",
    "%cd ../..\n",
    "\n",
    "!hostname"
   ]
  },
  {
   "cell_type": "code",
   "execution_count": 2,
   "metadata": {
    "collapsed": false,
    "pycharm": {
     "name": "#%%\n"
    }
   },
   "outputs": [],
   "source": [
    "import os\n",
    "\n",
    "import re\n",
    "import pandas as pd\n",
    "import numpy as np\n",
    "\n",
    "import h5py as h5\n",
    "\n",
    "import pli\n",
    "import pli.image as im\n",
    "\n",
    "from tqdm import tqdm"
   ]
  },
  {
   "cell_type": "code",
   "execution_count": 3,
   "metadata": {
    "collapsed": false,
    "pycharm": {
     "name": "#%%\n"
    }
   },
   "outputs": [
    {
     "data": {
      "text/html": [
       "<div>\n",
       "<style scoped>\n",
       "    .dataframe tbody tr th:only-of-type {\n",
       "        vertical-align: middle;\n",
       "    }\n",
       "\n",
       "    .dataframe tbody tr th {\n",
       "        vertical-align: top;\n",
       "    }\n",
       "\n",
       "    .dataframe thead th {\n",
       "        text-align: right;\n",
       "    }\n",
       "</style>\n",
       "<table border=\"1\" class=\"dataframe\">\n",
       "  <thead>\n",
       "    <tr style=\"text-align: right;\">\n",
       "      <th></th>\n",
       "      <th>id</th>\n",
       "      <th>file_mask</th>\n",
       "      <th>spacing</th>\n",
       "      <th>origin</th>\n",
       "      <th>file_features</th>\n",
       "    </tr>\n",
       "  </thead>\n",
       "  <tbody>\n",
       "    <tr>\n",
       "      <th>0</th>\n",
       "      <td>841</td>\n",
       "      <td>data/aa/masks/cortex/Vervet1818aa_60mu_70ms_s0...</td>\n",
       "      <td>[84.37760192, 84.37760192]</td>\n",
       "      <td>[0.0, 0.0]</td>\n",
       "      <td>data/aa/pca/pli_transret_histo/Vervet1818aa_60...</td>\n",
       "    </tr>\n",
       "    <tr>\n",
       "      <th>1</th>\n",
       "      <td>842</td>\n",
       "      <td>data/aa/masks/cortex/Vervet1818aa_60mu_70ms_s0...</td>\n",
       "      <td>[84.37760192, 84.37760192]</td>\n",
       "      <td>[0.0, 0.0]</td>\n",
       "      <td>data/aa/pca/pli_transret_histo/Vervet1818aa_60...</td>\n",
       "    </tr>\n",
       "    <tr>\n",
       "      <th>2</th>\n",
       "      <td>843</td>\n",
       "      <td>data/aa/masks/cortex/Vervet1818aa_60mu_70ms_s0...</td>\n",
       "      <td>[84.37760192, 84.37760192]</td>\n",
       "      <td>[0.0, 0.0]</td>\n",
       "      <td>data/aa/pca/pli_transret_histo/Vervet1818aa_60...</td>\n",
       "    </tr>\n",
       "    <tr>\n",
       "      <th>3</th>\n",
       "      <td>844</td>\n",
       "      <td>data/aa/masks/cortex/Vervet1818aa_60mu_70ms_s0...</td>\n",
       "      <td>[84.37760192, 84.37760192]</td>\n",
       "      <td>[0.0, 0.0]</td>\n",
       "      <td>data/aa/pca/pli_transret_histo/Vervet1818aa_60...</td>\n",
       "    </tr>\n",
       "    <tr>\n",
       "      <th>4</th>\n",
       "      <td>845</td>\n",
       "      <td>data/aa/masks/cortex/Vervet1818aa_60mu_70ms_s0...</td>\n",
       "      <td>[84.37760192, 84.37760192]</td>\n",
       "      <td>[0.0, 0.0]</td>\n",
       "      <td>data/aa/pca/pli_transret_histo/Vervet1818aa_60...</td>\n",
       "    </tr>\n",
       "  </tbody>\n",
       "</table>\n",
       "</div>"
      ],
      "text/plain": [
       "    id                                          file_mask  \\\n",
       "0  841  data/aa/masks/cortex/Vervet1818aa_60mu_70ms_s0...   \n",
       "1  842  data/aa/masks/cortex/Vervet1818aa_60mu_70ms_s0...   \n",
       "2  843  data/aa/masks/cortex/Vervet1818aa_60mu_70ms_s0...   \n",
       "3  844  data/aa/masks/cortex/Vervet1818aa_60mu_70ms_s0...   \n",
       "4  845  data/aa/masks/cortex/Vervet1818aa_60mu_70ms_s0...   \n",
       "\n",
       "                      spacing      origin  \\\n",
       "0  [84.37760192, 84.37760192]  [0.0, 0.0]   \n",
       "1  [84.37760192, 84.37760192]  [0.0, 0.0]   \n",
       "2  [84.37760192, 84.37760192]  [0.0, 0.0]   \n",
       "3  [84.37760192, 84.37760192]  [0.0, 0.0]   \n",
       "4  [84.37760192, 84.37760192]  [0.0, 0.0]   \n",
       "\n",
       "                                       file_features  \n",
       "0  data/aa/pca/pli_transret_histo/Vervet1818aa_60...  \n",
       "1  data/aa/pca/pli_transret_histo/Vervet1818aa_60...  \n",
       "2  data/aa/pca/pli_transret_histo/Vervet1818aa_60...  \n",
       "3  data/aa/pca/pli_transret_histo/Vervet1818aa_60...  \n",
       "4  data/aa/pca/pli_transret_histo/Vervet1818aa_60...  "
      ]
     },
     "execution_count": 3,
     "metadata": {},
     "output_type": "execute_result"
    }
   ],
   "source": [
    "# Get mask and feature info\n",
    "\n",
    "model_name = \"pli_transret_histo\"\n",
    "\n",
    "feature_path = f\"data/aa/pca/{model_name}\"\n",
    "mask_path = \"data/aa/masks/cortex/\"\n",
    "\n",
    "# Group of the mask in the H5 files\n",
    "mask_group = 'Image'\n",
    "\n",
    "# Group of the features in the H5 files\n",
    "feature_group = \"PCA\"\n",
    "\n",
    "###\n",
    "\n",
    "p = re.compile('.*s([0-9]{4})_.*h5')\n",
    "\n",
    "feature_list = []\n",
    "for f in sorted(os.listdir(feature_path)):\n",
    "    match = p.match(f)\n",
    "    if match:\n",
    "        id = int(match[1])\n",
    "        with h5.File(os.path.join(feature_path, f)) as h5f:\n",
    "            spacing = h5f[feature_group].attrs['spacing']\n",
    "            origin = h5f[feature_group].attrs['origin']\n",
    "        feature_list.append({'id': id, 'spacing': spacing, 'origin': origin, 'file_features': os.path.join(feature_path, f)})\n",
    "feature_df = pd.DataFrame(feature_list)\n",
    "\n",
    "mask_list = []\n",
    "for f in sorted(os.listdir(mask_path)):\n",
    "    match = p.match(f)\n",
    "    if match:\n",
    "        id = int(match[1])\n",
    "        mask_list.append({'id': id, 'file_mask': os.path.join(mask_path, f)})\n",
    "mask_df = pd.DataFrame(mask_list)\n",
    "\n",
    "files_df = mask_df.merge(feature_df, on='id', how='inner').sort_values('id').reset_index(drop=True)\n",
    "\n",
    "files_df.head()"
   ]
  },
  {
   "cell_type": "code",
   "execution_count": 4,
   "metadata": {
    "collapsed": false,
    "pycharm": {
     "name": "#%%\n"
    }
   },
   "outputs": [
    {
     "name": "stderr",
     "output_type": "stream",
     "text": [
      "100%|█████████████████████████████████████████████████████████████████████████████████████████████████████| 232/232 [00:04<00:00, 47.51it/s]\n"
     ]
    },
    {
     "name": "stdout",
     "output_type": "stream",
     "text": [
      "Valid features have shape (16340715, 4)\n"
     ]
    }
   ],
   "source": [
    "# Load all PCA sections\n",
    "\n",
    "# Coressponding pyramid to the Feature size\n",
    "mask_pyramid = 6\n",
    "\n",
    "# Masking of features to include foreground only\n",
    "mask_features = True\n",
    "background_class = 3\n",
    "\n",
    "# Smoothing of the features\n",
    "sigma = 1.0\n",
    "\n",
    "###\n",
    "\n",
    "from skimage import filters\n",
    "from vervet1818_3d.utils.io import read_masked_features\n",
    "\n",
    "selected_features = []\n",
    "selected_masks = []\n",
    "\n",
    "for k, r in tqdm(files_df.sort_values('id').iterrows(), total=len(files_df)):\n",
    "    features, mask = read_masked_features(\n",
    "        r.file_features,\n",
    "        r.file_mask,\n",
    "        mask_pyramid=mask_pyramid,\n",
    "        data_group=feature_group,\n",
    "        mask_group=mask_group\n",
    "    )\n",
    "    assert features.shape[:2] == mask.shape, f\"{features.shape[:2]} differs from {mask.shape}\"\n",
    "\n",
    "    # Smooth features a bit\n",
    "    if sigma > 0.:\n",
    "        features = filters.gaussian(features, multichannel=True, sigma=sigma)\n",
    "\n",
    "    selected_features.append(features)\n",
    "    selected_masks.append(mask)\n",
    "\n",
    "if mask_features:\n",
    "    valid_features = [f[m != background_class] for f, m in zip(selected_features, selected_masks)]\n",
    "else:\n",
    "    valid_features = [sf.reshape(-1, sf.shape[-1]) for sf in selected_features]\n",
    "\n",
    "valid_lengths = [len(vf) for vf in valid_features]\n",
    "valid_features = np.vstack(valid_features)\n",
    "\n",
    "print(f\"Valid features have shape {valid_features.shape}\")"
   ]
  },
  {
   "cell_type": "code",
   "execution_count": 5,
   "metadata": {
    "collapsed": false,
    "pycharm": {
     "name": "#%%\n"
    }
   },
   "outputs": [
    {
     "data": {
      "text/plain": [
       "KMeans(max_iter=1000, n_clusters=20, random_state=299792458)"
      ]
     },
     "execution_count": 5,
     "metadata": {},
     "output_type": "execute_result"
    }
   ],
   "source": [
    "n_clusters = 20\n",
    "n_subfeatures = 32_000\n",
    "seed = 299792458\n",
    "\n",
    "###\n",
    "\n",
    "from sklearn.cluster import KMeans\n",
    "\n",
    "np.random.seed(seed)\n",
    "\n",
    "# Reduce to the selected valid components\n",
    "ix = np.random.choice(np.arange(len(valid_features)), n_subfeatures)\n",
    "\n",
    "km = KMeans(n_clusters, n_init=10, max_iter=1000, tol=1e-4, random_state=seed)\n",
    "km.fit(valid_features[ix])"
   ]
  },
  {
   "cell_type": "code",
   "execution_count": 6,
   "metadata": {
    "collapsed": false,
    "pycharm": {
     "name": "#%%\n"
    }
   },
   "outputs": [
    {
     "name": "stdout",
     "output_type": "stream",
     "text": [
      "Create path data/aa/clusters/kmeans/pli_transret_histo\n",
      "Write cluster sections to data/aa/clusters/kmeans/pli_transret_histo\n"
     ]
    },
    {
     "name": "stderr",
     "output_type": "stream",
     "text": [
      "100%|█████████████████████████████████████████████████████████████████████████████████████████████████████| 232/232 [00:14<00:00, 15.54it/s]\n"
     ]
    }
   ],
   "source": [
    "# Create masks\n",
    "\n",
    "dtype =  np.uint8 # np.uint8, np.bool\n",
    "background_class = 3\n",
    "\n",
    "out_folder = f\"data/aa/clusters/kmeans/\"\n",
    "out_group = 'Mask'\n",
    "\n",
    "chunk_size = 128\n",
    "compression ='gzip'\n",
    "\n",
    "###\n",
    "\n",
    "out_path = os.path.join(out_folder, model_name)\n",
    "\n",
    "if not os.path.exists(out_path):\n",
    "    print(\"Create path\", out_path)\n",
    "    os.mkdir(out_path)\n",
    "\n",
    "print(\"Write cluster sections to\", out_path)\n",
    "for sf, sm, (k, r) in tqdm(zip(selected_features, selected_masks, files_df.iterrows()), total=len(files_df)):\n",
    "\n",
    "    # Get predictions\n",
    "    predictions = km.predict(sf[sm != background_class])\n",
    "\n",
    "    cluster_array = np.zeros(sf.shape[:2], dtype=dtype)\n",
    "    cluster_array[sm != background_class] = predictions + 1\n",
    "\n",
    "    out_file = f\"Kmeans_{n_clusters}_s{r.id:04d}.h5\"\n",
    "    out_section = pli.data.Section(image=cluster_array)\n",
    "    out_section.spacing = r.spacing\n",
    "    out_section.origin = r.origin\n",
    "    out_section.modality = 'Mask'\n",
    "    out_section.attrs['n_clusters'] = n_clusters\n",
    "    out_section.attrs['cluster_centers'] = km.cluster_centers_\n",
    "\n",
    "    out_section.to_hdf5(\n",
    "        os.path.join(out_path, out_file),\n",
    "        chunk_size=chunk_size,\n",
    "        compression=compression,\n",
    "        pyramid=False,\n",
    "        overwrite=True\n",
    "    )\n",
    "    out_section.close_file_handle()"
   ]
  },
  {
   "cell_type": "code",
   "execution_count": 6,
   "metadata": {
    "collapsed": false,
    "pycharm": {
     "name": "#%%\n"
    }
   },
   "outputs": [],
   "source": []
  }
 ],
 "metadata": {
  "kernelspec": {
   "display_name": "Venv (pli-env)",
   "language": "python",
   "name": "pli-env"
  },
  "language_info": {
   "codemirror_mode": {
    "name": "ipython",
    "version": 2
   },
   "file_extension": ".py",
   "mimetype": "text/x-python",
   "name": "python",
   "nbconvert_exporter": "python",
   "pygments_lexer": "ipython2",
   "version": "2.7.6"
  }
 },
 "nbformat": 4,
 "nbformat_minor": 0
}
