{
 "cells": [
  {
   "cell_type": "code",
   "execution_count": 1,
   "metadata": {
    "collapsed": false,
    "pycharm": {
     "name": "#%%\n"
    }
   },
   "outputs": [
    {
     "name": "stdout",
     "output_type": "stream",
     "text": [
      "/p/fastdata/pli/Private/oberstrass1/datasets/vervet1818-3d\n",
      "jrlogin08.jureca\r\n"
     ]
    }
   ],
   "source": [
    "import os\n",
    "\n",
    "%load_ext autoreload\n",
    "%autoreload 2\n",
    "\n",
    "%matplotlib inline\n",
    "\n",
    "%cd ../..\n",
    "\n",
    "!hostname"
   ]
  },
  {
   "cell_type": "code",
   "execution_count": 19,
   "metadata": {
    "collapsed": false,
    "pycharm": {
     "name": "#%%\n"
    }
   },
   "outputs": [
    {
     "name": "stdout",
     "output_type": "stream",
     "text": [
      "Vervet1818aa_60mu_70ms_s0841_x00-21_y00-14_Mask.h5\n",
      "WM [788740805 103792991]\n",
      "GM [638423322 254110474]\n",
      "BG [357903465 533611705    177161    596078     33682     37745     24133\n",
      "     78458     12832     17549     20065     20923]\n"
     ]
    }
   ],
   "source": [
    "cortex_path = \"data/aa/masks/cortex/\"\n",
    "\n",
    "WM = 1\n",
    "GM = 2\n",
    "BG = 3\n",
    "\n",
    "####\n",
    "\n",
    "import os\n",
    "import pli\n",
    "import numpy as np\n",
    "from scipy import ndimage as ndi\n",
    "\n",
    "for f in sorted(os.listdir(cortex_path)):\n",
    "    print(f)\n",
    "    mask_section = pli.data.Section(os.path.join(cortex_path, f))\n",
    "    mask = mask_section.image[:]\n",
    "    label_objects, nb_labels = ndi.label(mask == WM)\n",
    "    sizes = np.bincount(label_objects.ravel()) #[1:]\n",
    "    print(\"WM\", sizes)\n",
    "\n",
    "    label_objects, nb_labels = ndi.label(mask == GM)\n",
    "    sizes = np.bincount(label_objects.ravel()) # [1:]\n",
    "    print(\"GM\", sizes)\n",
    "\n",
    "    label_objects, nb_labels = ndi.label(mask == BG)\n",
    "    sizes = np.bincount(label_objects.ravel()) # [1:]\n",
    "    print(\"BG\", sizes)"
   ]
  }
 ],
 "metadata": {
  "kernelspec": {
   "display_name": "Venv (pli-env)",
   "language": "python",
   "name": "pli-env"
  },
  "language_info": {
   "codemirror_mode": {
    "name": "ipython",
    "version": 2
   },
   "file_extension": ".py",
   "mimetype": "text/x-python",
   "name": "python",
   "nbconvert_exporter": "python",
   "pygments_lexer": "ipython2",
   "version": "2.7.6"
  }
 },
 "nbformat": 4,
 "nbformat_minor": 0
}
